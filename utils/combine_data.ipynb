{
 "cells": [
  {
   "cell_type": "code",
   "execution_count": null,
   "metadata": {},
   "outputs": [],
   "source": [
    "import pandas as pd\n",
    "from datetime import datetime, timedelta"
   ]
  },
  {
   "cell_type": "code",
   "execution_count": null,
   "metadata": {},
   "outputs": [],
   "source": [
    "dates = []\n",
    "start_date = datetime(2020, 6, 1)\n",
    "end_date = datetime(2022, 6, 1)\n",
    "\n",
    "while start_date <= end_date:\n",
    "  dates.append(start_date.strftime(\"%Y-%m\")) \n",
    "  start_date += timedelta(days=31)  \n",
    "\n",
    "# Print dates to verify\n",
    "print(\"Files to be processed:\", dates)\n",
    "\n",
    "combined_df = pd.concat([pd.read_csv(f\"data/raw/{date}.csv\") for date in dates], ignore_index=True)\n",
    "\n",
    "# Save as HDF5 format\n",
    "combined_df.to_hdf('data/h5/combined_data.h5', key='data', mode='w')"
   ]
  }
 ],
 "metadata": {
  "kernelspec": {
   "display_name": "profiles",
   "language": "python",
   "name": "python3"
  },
  "language_info": {
   "name": "python",
   "version": "3.11.9"
  }
 },
 "nbformat": 4,
 "nbformat_minor": 2
}
