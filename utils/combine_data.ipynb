{
 "cells": [
  {
   "cell_type": "code",
   "execution_count": 7,
   "metadata": {},
   "outputs": [],
   "source": [
    "import pandas as pd\n",
    "from datetime import datetime, timedelta"
   ]
  },
  {
   "cell_type": "code",
   "execution_count": 8,
   "metadata": {},
   "outputs": [
    {
     "name": "stdout",
     "output_type": "stream",
     "text": [
      "Files to be processed: ['2020-06', '2020-07', '2020-08', '2020-09', '2020-10', '2020-11', '2020-12', '2021-01', '2021-02', '2021-03', '2021-04', '2021-05', '2021-06', '2021-07', '2021-08', '2021-09', '2021-10', '2021-11', '2021-12', '2022-01', '2022-02', '2022-03', '2022-04', '2022-05']\n"
     ]
    }
   ],
   "source": [
    "dates = []\n",
    "start_date = datetime(2020, 6, 1)\n",
    "end_date = datetime(2022, 6, 1)\n",
    "\n",
    "while start_date <= end_date:\n",
    "  dates.append(start_date.strftime(\"%Y-%m\")) \n",
    "  start_date += timedelta(days=31)  \n",
    "\n",
    "# Print dates to verify\n",
    "print(\"Files to be processed:\", dates)\n",
    "\n",
    "combined_df = pd.concat([pd.read_csv(f\"../data/raw/{date}.csv\") for date in dates], ignore_index=True)\n",
    "\n",
    "# Save as HDF5 format\n",
    "combined_df.to_hdf('../data/h5/combined_data.h5', key='data', mode='w')"
   ]
  }
 ],
 "metadata": {
  "kernelspec": {
   "display_name": "profiles",
   "language": "python",
   "name": "python3"
  },
  "language_info": {
   "codemirror_mode": {
    "name": "ipython",
    "version": 3
   },
   "file_extension": ".py",
   "mimetype": "text/x-python",
   "name": "python",
   "nbconvert_exporter": "python",
   "pygments_lexer": "ipython3",
   "version": "3.11.9"
  }
 },
 "nbformat": 4,
 "nbformat_minor": 2
}
