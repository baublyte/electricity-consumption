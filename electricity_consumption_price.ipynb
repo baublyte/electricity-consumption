{
 "cells": [
  {
   "cell_type": "markdown",
   "metadata": {},
   "source": [
    "## Electricity consumption and price analysis"
   ]
  },
  {
   "cell_type": "code",
   "execution_count": 25,
   "metadata": {},
   "outputs": [],
   "source": [
    "import plotly.graph_objects as go\n",
    "import pandas as pd"
   ]
  },
  {
   "cell_type": "code",
   "execution_count": 26,
   "metadata": {},
   "outputs": [
    {
     "data": {
      "text/html": [
       "<div>\n",
       "<style scoped>\n",
       "    .dataframe tbody tr th:only-of-type {\n",
       "        vertical-align: middle;\n",
       "    }\n",
       "\n",
       "    .dataframe tbody tr th {\n",
       "        vertical-align: top;\n",
       "    }\n",
       "\n",
       "    .dataframe thead th {\n",
       "        text-align: right;\n",
       "    }\n",
       "</style>\n",
       "<table border=\"1\" class=\"dataframe\">\n",
       "  <thead>\n",
       "    <tr style=\"text-align: right;\">\n",
       "      <th></th>\n",
       "      <th>TINKLAS</th>\n",
       "      <th>OBT_PAVADINIMAS</th>\n",
       "      <th>OBJ_GV_TIPAS</th>\n",
       "      <th>OBJ_NUMERIS</th>\n",
       "      <th>P+</th>\n",
       "      <th>PL_T</th>\n",
       "      <th>P-</th>\n",
       "    </tr>\n",
       "  </thead>\n",
       "  <tbody>\n",
       "    <tr>\n",
       "      <th>2</th>\n",
       "      <td>Alytaus regiono tinklas</td>\n",
       "      <td>Butas</td>\n",
       "      <td>Ne GV</td>\n",
       "      <td>37502</td>\n",
       "      <td>0.0500</td>\n",
       "      <td>2020-06-30 00:00:00</td>\n",
       "      <td>0.0</td>\n",
       "    </tr>\n",
       "    <tr>\n",
       "      <th>5</th>\n",
       "      <td>Vilniaus regiono tinklas</td>\n",
       "      <td>Butas</td>\n",
       "      <td>Ne GV</td>\n",
       "      <td>600022</td>\n",
       "      <td>0.0230</td>\n",
       "      <td>2020-06-30 00:00:00</td>\n",
       "      <td>0.0</td>\n",
       "    </tr>\n",
       "    <tr>\n",
       "      <th>13</th>\n",
       "      <td>Šiaulių regiono tinklas</td>\n",
       "      <td>Namas</td>\n",
       "      <td>G</td>\n",
       "      <td>859552</td>\n",
       "      <td>0.4135</td>\n",
       "      <td>2020-06-30 00:00:00</td>\n",
       "      <td>0.0</td>\n",
       "    </tr>\n",
       "    <tr>\n",
       "      <th>17</th>\n",
       "      <td>Kauno regiono tinklas</td>\n",
       "      <td>Butas</td>\n",
       "      <td>N</td>\n",
       "      <td>197974</td>\n",
       "      <td>0.1058</td>\n",
       "      <td>2020-06-30 00:00:00</td>\n",
       "      <td>0.0</td>\n",
       "    </tr>\n",
       "    <tr>\n",
       "      <th>23</th>\n",
       "      <td>Vilniaus regiono tinklas</td>\n",
       "      <td>Butas</td>\n",
       "      <td>Ne GV</td>\n",
       "      <td>535458</td>\n",
       "      <td>0.0400</td>\n",
       "      <td>2020-06-30 00:00:00</td>\n",
       "      <td>0.0</td>\n",
       "    </tr>\n",
       "    <tr>\n",
       "      <th>...</th>\n",
       "      <td>...</td>\n",
       "      <td>...</td>\n",
       "      <td>...</td>\n",
       "      <td>...</td>\n",
       "      <td>...</td>\n",
       "      <td>...</td>\n",
       "      <td>...</td>\n",
       "    </tr>\n",
       "    <tr>\n",
       "      <th>11816434</th>\n",
       "      <td>Vilniaus regiono tinklas</td>\n",
       "      <td>Butas</td>\n",
       "      <td>Ne GV</td>\n",
       "      <td>585738</td>\n",
       "      <td>0.0260</td>\n",
       "      <td>2022-05-01 01:00:00</td>\n",
       "      <td>0.0</td>\n",
       "    </tr>\n",
       "    <tr>\n",
       "      <th>11816450</th>\n",
       "      <td>Vilniaus regiono tinklas</td>\n",
       "      <td>Butas</td>\n",
       "      <td>Ne GV</td>\n",
       "      <td>578178</td>\n",
       "      <td>0.0940</td>\n",
       "      <td>2022-05-01 01:00:00</td>\n",
       "      <td>0.0</td>\n",
       "    </tr>\n",
       "    <tr>\n",
       "      <th>11816458</th>\n",
       "      <td>Vilniaus regiono tinklas</td>\n",
       "      <td>Butas</td>\n",
       "      <td>Ne GV</td>\n",
       "      <td>575298</td>\n",
       "      <td>0.0380</td>\n",
       "      <td>2022-05-01 01:00:00</td>\n",
       "      <td>0.0</td>\n",
       "    </tr>\n",
       "    <tr>\n",
       "      <th>11816461</th>\n",
       "      <td>Vilniaus regiono tinklas</td>\n",
       "      <td>Butas</td>\n",
       "      <td>Ne GV</td>\n",
       "      <td>573378</td>\n",
       "      <td>0.0290</td>\n",
       "      <td>2022-05-01 01:00:00</td>\n",
       "      <td>0.0</td>\n",
       "    </tr>\n",
       "    <tr>\n",
       "      <th>11816512</th>\n",
       "      <td>Vilniaus regiono tinklas</td>\n",
       "      <td>Namas</td>\n",
       "      <td>G</td>\n",
       "      <td>463328</td>\n",
       "      <td>0.1972</td>\n",
       "      <td>2022-05-01 01:00:00</td>\n",
       "      <td>0.0</td>\n",
       "    </tr>\n",
       "  </tbody>\n",
       "</table>\n",
       "<p>1857120 rows × 7 columns</p>\n",
       "</div>"
      ],
      "text/plain": [
       "                           TINKLAS OBT_PAVADINIMAS OBJ_GV_TIPAS  OBJ_NUMERIS  \\\n",
       "2          Alytaus regiono tinklas           Butas        Ne GV        37502   \n",
       "5         Vilniaus regiono tinklas           Butas        Ne GV       600022   \n",
       "13         Šiaulių regiono tinklas           Namas            G       859552   \n",
       "17           Kauno regiono tinklas           Butas            N       197974   \n",
       "23        Vilniaus regiono tinklas           Butas        Ne GV       535458   \n",
       "...                            ...             ...          ...          ...   \n",
       "11816434  Vilniaus regiono tinklas           Butas        Ne GV       585738   \n",
       "11816450  Vilniaus regiono tinklas           Butas        Ne GV       578178   \n",
       "11816458  Vilniaus regiono tinklas           Butas        Ne GV       575298   \n",
       "11816461  Vilniaus regiono tinklas           Butas        Ne GV       573378   \n",
       "11816512  Vilniaus regiono tinklas           Namas            G       463328   \n",
       "\n",
       "              P+                 PL_T   P-  \n",
       "2         0.0500  2020-06-30 00:00:00  0.0  \n",
       "5         0.0230  2020-06-30 00:00:00  0.0  \n",
       "13        0.4135  2020-06-30 00:00:00  0.0  \n",
       "17        0.1058  2020-06-30 00:00:00  0.0  \n",
       "23        0.0400  2020-06-30 00:00:00  0.0  \n",
       "...          ...                  ...  ...  \n",
       "11816434  0.0260  2022-05-01 01:00:00  0.0  \n",
       "11816450  0.0940  2022-05-01 01:00:00  0.0  \n",
       "11816458  0.0380  2022-05-01 01:00:00  0.0  \n",
       "11816461  0.0290  2022-05-01 01:00:00  0.0  \n",
       "11816512  0.1972  2022-05-01 01:00:00  0.0  \n",
       "\n",
       "[1857120 rows x 7 columns]"
      ]
     },
     "execution_count": 26,
     "metadata": {},
     "output_type": "execute_result"
    }
   ],
   "source": [
    "df = pd.read_hdf('data/h5/cleaned_data.h5')\n",
    "df"
   ]
  },
  {
   "cell_type": "markdown",
   "metadata": {},
   "source": [
    "### A. How much electricity (kwh) did apartment 771822 (object number) consume in 2 years?"
   ]
  },
  {
   "cell_type": "code",
   "execution_count": 27,
   "metadata": {},
   "outputs": [
    {
     "name": "stdout",
     "output_type": "stream",
     "text": [
      "Total electricity consumption for apartment 771822 over 2 years: 3046.78 kWh\n"
     ]
    }
   ],
   "source": [
    "consumption = df[df['OBJ_NUMERIS'] == 771822].copy()\n",
    "\n",
    "total_kwh =  df[df['OBJ_NUMERIS'] == 771822]['P+'].sum()\n",
    "\n",
    "print(f\"Total electricity consumption for apartment 771822 over 2 years: {total_kwh:.2f} kWh\")"
   ]
  },
  {
   "cell_type": "markdown",
   "metadata": {},
   "source": [
    "### B. How much electricity (kWh) is consumed on average (median) per day by one apartment and one house in each month of the year.\n"
   ]
  },
  {
   "cell_type": "code",
   "execution_count": 67,
   "metadata": {},
   "outputs": [
    {
     "data": {
      "text/html": [
       "<div>\n",
       "<style scoped>\n",
       "    .dataframe tbody tr th:only-of-type {\n",
       "        vertical-align: middle;\n",
       "    }\n",
       "\n",
       "    .dataframe tbody tr th {\n",
       "        vertical-align: top;\n",
       "    }\n",
       "\n",
       "    .dataframe thead th {\n",
       "        text-align: right;\n",
       "    }\n",
       "</style>\n",
       "<table border=\"1\" class=\"dataframe\">\n",
       "  <thead>\n",
       "    <tr style=\"text-align: right;\">\n",
       "      <th></th>\n",
       "      <th>OBJ_NUMERIS</th>\n",
       "      <th>OBT_PAVADINIMAS</th>\n",
       "      <th>Date</th>\n",
       "      <th>P+</th>\n",
       "    </tr>\n",
       "  </thead>\n",
       "  <tbody>\n",
       "    <tr>\n",
       "      <th>0</th>\n",
       "      <td>37082</td>\n",
       "      <td>Butas</td>\n",
       "      <td>2020-06-01</td>\n",
       "      <td>7.1160</td>\n",
       "    </tr>\n",
       "    <tr>\n",
       "      <th>1</th>\n",
       "      <td>37082</td>\n",
       "      <td>Butas</td>\n",
       "      <td>2020-06-02</td>\n",
       "      <td>10.2460</td>\n",
       "    </tr>\n",
       "    <tr>\n",
       "      <th>2</th>\n",
       "      <td>37082</td>\n",
       "      <td>Butas</td>\n",
       "      <td>2020-06-03</td>\n",
       "      <td>7.3130</td>\n",
       "    </tr>\n",
       "    <tr>\n",
       "      <th>3</th>\n",
       "      <td>37082</td>\n",
       "      <td>Butas</td>\n",
       "      <td>2020-06-04</td>\n",
       "      <td>5.2590</td>\n",
       "    </tr>\n",
       "    <tr>\n",
       "      <th>4</th>\n",
       "      <td>37082</td>\n",
       "      <td>Butas</td>\n",
       "      <td>2020-06-05</td>\n",
       "      <td>10.5530</td>\n",
       "    </tr>\n",
       "    <tr>\n",
       "      <th>...</th>\n",
       "      <td>...</td>\n",
       "      <td>...</td>\n",
       "      <td>...</td>\n",
       "      <td>...</td>\n",
       "    </tr>\n",
       "    <tr>\n",
       "      <th>77375</th>\n",
       "      <td>862312</td>\n",
       "      <td>Namas</td>\n",
       "      <td>2022-05-27</td>\n",
       "      <td>6.8294</td>\n",
       "    </tr>\n",
       "    <tr>\n",
       "      <th>77376</th>\n",
       "      <td>862312</td>\n",
       "      <td>Namas</td>\n",
       "      <td>2022-05-28</td>\n",
       "      <td>6.5415</td>\n",
       "    </tr>\n",
       "    <tr>\n",
       "      <th>77377</th>\n",
       "      <td>862312</td>\n",
       "      <td>Namas</td>\n",
       "      <td>2022-05-29</td>\n",
       "      <td>7.8268</td>\n",
       "    </tr>\n",
       "    <tr>\n",
       "      <th>77378</th>\n",
       "      <td>862312</td>\n",
       "      <td>Namas</td>\n",
       "      <td>2022-05-30</td>\n",
       "      <td>10.7717</td>\n",
       "    </tr>\n",
       "    <tr>\n",
       "      <th>77379</th>\n",
       "      <td>862312</td>\n",
       "      <td>Namas</td>\n",
       "      <td>2022-05-31</td>\n",
       "      <td>8.2631</td>\n",
       "    </tr>\n",
       "  </tbody>\n",
       "</table>\n",
       "<p>77380 rows × 4 columns</p>\n",
       "</div>"
      ],
      "text/plain": [
       "       OBJ_NUMERIS OBT_PAVADINIMAS        Date       P+\n",
       "0            37082           Butas  2020-06-01   7.1160\n",
       "1            37082           Butas  2020-06-02  10.2460\n",
       "2            37082           Butas  2020-06-03   7.3130\n",
       "3            37082           Butas  2020-06-04   5.2590\n",
       "4            37082           Butas  2020-06-05  10.5530\n",
       "...            ...             ...         ...      ...\n",
       "77375       862312           Namas  2022-05-27   6.8294\n",
       "77376       862312           Namas  2022-05-28   6.5415\n",
       "77377       862312           Namas  2022-05-29   7.8268\n",
       "77378       862312           Namas  2022-05-30  10.7717\n",
       "77379       862312           Namas  2022-05-31   8.2631\n",
       "\n",
       "[77380 rows x 4 columns]"
      ]
     },
     "execution_count": 67,
     "metadata": {},
     "output_type": "execute_result"
    }
   ],
   "source": [
    "df['PL_T'] = pd.to_datetime(df['PL_T'])\n",
    "df['Date'] = df['PL_T'].dt.date\n",
    "\n",
    "daily_consumptions = df.groupby(['OBJ_NUMERIS', 'OBT_PAVADINIMAS','Date'])['P+'].sum().reset_index()\n",
    "\n",
    "daily_consumptions\n"
   ]
  },
  {
   "cell_type": "code",
   "execution_count": 73,
   "metadata": {},
   "outputs": [
    {
     "data": {
      "text/html": [
       "<div>\n",
       "<style scoped>\n",
       "    .dataframe tbody tr th:only-of-type {\n",
       "        vertical-align: middle;\n",
       "    }\n",
       "\n",
       "    .dataframe tbody tr th {\n",
       "        vertical-align: top;\n",
       "    }\n",
       "\n",
       "    .dataframe thead th {\n",
       "        text-align: right;\n",
       "    }\n",
       "</style>\n",
       "<table border=\"1\" class=\"dataframe\">\n",
       "  <thead>\n",
       "    <tr style=\"text-align: right;\">\n",
       "      <th>OBT_PAVADINIMAS</th>\n",
       "      <th>Butas</th>\n",
       "      <th>Namas</th>\n",
       "    </tr>\n",
       "    <tr>\n",
       "      <th>month</th>\n",
       "      <th></th>\n",
       "      <th></th>\n",
       "    </tr>\n",
       "  </thead>\n",
       "  <tbody>\n",
       "    <tr>\n",
       "      <th>1</th>\n",
       "      <td>4.1100</td>\n",
       "      <td>20.98355</td>\n",
       "    </tr>\n",
       "    <tr>\n",
       "      <th>2</th>\n",
       "      <td>4.1220</td>\n",
       "      <td>19.13935</td>\n",
       "    </tr>\n",
       "    <tr>\n",
       "      <th>3</th>\n",
       "      <td>3.8865</td>\n",
       "      <td>15.75300</td>\n",
       "    </tr>\n",
       "    <tr>\n",
       "      <th>4</th>\n",
       "      <td>3.6630</td>\n",
       "      <td>12.52200</td>\n",
       "    </tr>\n",
       "    <tr>\n",
       "      <th>5</th>\n",
       "      <td>3.5920</td>\n",
       "      <td>8.94125</td>\n",
       "    </tr>\n",
       "    <tr>\n",
       "      <th>6</th>\n",
       "      <td>2.7534</td>\n",
       "      <td>6.38740</td>\n",
       "    </tr>\n",
       "    <tr>\n",
       "      <th>7</th>\n",
       "      <td>2.5775</td>\n",
       "      <td>6.31660</td>\n",
       "    </tr>\n",
       "    <tr>\n",
       "      <th>8</th>\n",
       "      <td>2.7495</td>\n",
       "      <td>7.14265</td>\n",
       "    </tr>\n",
       "    <tr>\n",
       "      <th>9</th>\n",
       "      <td>3.3500</td>\n",
       "      <td>9.58200</td>\n",
       "    </tr>\n",
       "    <tr>\n",
       "      <th>10</th>\n",
       "      <td>3.7285</td>\n",
       "      <td>13.91460</td>\n",
       "    </tr>\n",
       "    <tr>\n",
       "      <th>11</th>\n",
       "      <td>4.0075</td>\n",
       "      <td>18.16900</td>\n",
       "    </tr>\n",
       "    <tr>\n",
       "      <th>12</th>\n",
       "      <td>3.9855</td>\n",
       "      <td>22.29205</td>\n",
       "    </tr>\n",
       "  </tbody>\n",
       "</table>\n",
       "</div>"
      ],
      "text/plain": [
       "OBT_PAVADINIMAS   Butas     Namas\n",
       "month                            \n",
       "1                4.1100  20.98355\n",
       "2                4.1220  19.13935\n",
       "3                3.8865  15.75300\n",
       "4                3.6630  12.52200\n",
       "5                3.5920   8.94125\n",
       "6                2.7534   6.38740\n",
       "7                2.5775   6.31660\n",
       "8                2.7495   7.14265\n",
       "9                3.3500   9.58200\n",
       "10               3.7285  13.91460\n",
       "11               4.0075  18.16900\n",
       "12               3.9855  22.29205"
      ]
     },
     "execution_count": 73,
     "metadata": {},
     "output_type": "execute_result"
    }
   ],
   "source": [
    "# Removing hours from dates, while grouping by date summing hours \n",
    "df['date_without_hours'] = df['PL_T'].dt.date\n",
    "df['month'] = df['PL_T'].dt.month\n",
    "\n",
    "result = (df.groupby(['OBJ_NUMERIS', 'OBT_PAVADINIMAS', 'month', 'date_without_hours'])\n",
    "          .agg({'P+': 'sum'})                                  \n",
    "          .groupby(['OBT_PAVADINIMAS', 'month'])\n",
    "          .agg({'P+': 'median'})                                 \n",
    "          .reset_index()\n",
    "          .pivot(index='month', columns='OBT_PAVADINIMAS', values='P+'))\n",
    "\n",
    "result\n"
   ]
  },
  {
   "cell_type": "code",
   "execution_count": 74,
   "metadata": {},
   "outputs": [],
   "source": [
    "def visualize_electricity_consumption(df):\n",
    "    \n",
    "    fig_line = go.Figure()\n",
    "\n",
    "    # Add line traces for apartments and houses\n",
    "    fig_line.add_trace(\n",
    "        go.Scatter(x=result.index, \n",
    "                  y=result['Butas'],\n",
    "                  name='Apartment',\n",
    "                  line=dict(color='#636EFA', width=2),\n",
    "                  mode='markers')\n",
    "    )\n",
    "\n",
    "    fig_line.add_trace(\n",
    "        go.Scatter(x=result.index, \n",
    "                  y=result['Namas'],\n",
    "                  name='House',\n",
    "                  line=dict(color='#EF553B', width=2),\n",
    "                  mode='markers')\n",
    "    )\n",
    "\n",
    "    # Update line plot layout\n",
    "    fig_line.update_layout(\n",
    "        title='Daily Electricity Consumption by Property Type',\n",
    "        title_x=0.5,\n",
    "        xaxis_title='Month',\n",
    "        yaxis_title='Consumption (kWh)',\n",
    "        height=500,\n",
    "        showlegend=True,\n",
    "        legend=dict(\n",
    "            yanchor=\"bottom\",\n",
    "            y=1.02,\n",
    "            xanchor=\"center\",\n",
    "            x=0.5,\n",
    "            orientation=\"h\"\n",
    "        )\n",
    "    )\n",
    "\n",
    "    # Update x-axis\n",
    "    fig_line.update_xaxes(\n",
    "        ticktext=['Jan', 'Feb', 'Mar', 'Apr', 'May', 'Jun', \n",
    "                 'Jul', 'Aug', 'Sep', 'Oct', 'Nov', 'Dec'],\n",
    "        tickvals=list(range(1, 13))\n",
    "    )\n",
    "       \n",
    "    fig_line.show()\n",
    "    fig_line.write_image(\n",
    "    \"images/Daily_electricity_consumption_by_property_type.png\",\n",
    "    scale=3,         \n",
    "    width=1200,      \n",
    "    height=800       \n",
    ")"
   ]
  },
  {
   "cell_type": "code",
   "execution_count": 75,
   "metadata": {},
   "outputs": [
    {
     "data": {
      "application/vnd.plotly.v1+json": {
       "config": {
        "plotlyServerURL": "https://plot.ly"
       },
       "data": [
        {
         "line": {
          "color": "#636EFA",
          "width": 2
         },
         "mode": "markers",
         "name": "Apartment",
         "type": "scatter",
         "x": [
          1,
          2,
          3,
          4,
          5,
          6,
          7,
          8,
          9,
          10,
          11,
          12
         ],
         "y": [
          4.11,
          4.122,
          3.8865,
          3.663,
          3.592,
          2.7534,
          2.5774999999999997,
          2.7495000000000003,
          3.35,
          3.7285000000000004,
          4.0075,
          3.9855
         ]
        },
        {
         "line": {
          "color": "#EF553B",
          "width": 2
         },
         "mode": "markers",
         "name": "House",
         "type": "scatter",
         "x": [
          1,
          2,
          3,
          4,
          5,
          6,
          7,
          8,
          9,
          10,
          11,
          12
         ],
         "y": [
          20.98355,
          19.13935,
          15.753,
          12.522,
          8.94125,
          6.3873999999999995,
          6.316599999999999,
          7.14265,
          9.582,
          13.9146,
          18.168999999999997,
          22.292050000000003
         ]
        }
       ],
       "layout": {
        "height": 500,
        "legend": {
         "orientation": "h",
         "x": 0.5,
         "xanchor": "center",
         "y": 1.02,
         "yanchor": "bottom"
        },
        "showlegend": true,
        "template": {
         "data": {
          "bar": [
           {
            "error_x": {
             "color": "#2a3f5f"
            },
            "error_y": {
             "color": "#2a3f5f"
            },
            "marker": {
             "line": {
              "color": "#E5ECF6",
              "width": 0.5
             },
             "pattern": {
              "fillmode": "overlay",
              "size": 10,
              "solidity": 0.2
             }
            },
            "type": "bar"
           }
          ],
          "barpolar": [
           {
            "marker": {
             "line": {
              "color": "#E5ECF6",
              "width": 0.5
             },
             "pattern": {
              "fillmode": "overlay",
              "size": 10,
              "solidity": 0.2
             }
            },
            "type": "barpolar"
           }
          ],
          "carpet": [
           {
            "aaxis": {
             "endlinecolor": "#2a3f5f",
             "gridcolor": "white",
             "linecolor": "white",
             "minorgridcolor": "white",
             "startlinecolor": "#2a3f5f"
            },
            "baxis": {
             "endlinecolor": "#2a3f5f",
             "gridcolor": "white",
             "linecolor": "white",
             "minorgridcolor": "white",
             "startlinecolor": "#2a3f5f"
            },
            "type": "carpet"
           }
          ],
          "choropleth": [
           {
            "colorbar": {
             "outlinewidth": 0,
             "ticks": ""
            },
            "type": "choropleth"
           }
          ],
          "contour": [
           {
            "colorbar": {
             "outlinewidth": 0,
             "ticks": ""
            },
            "colorscale": [
             [
              0,
              "#0d0887"
             ],
             [
              0.1111111111111111,
              "#46039f"
             ],
             [
              0.2222222222222222,
              "#7201a8"
             ],
             [
              0.3333333333333333,
              "#9c179e"
             ],
             [
              0.4444444444444444,
              "#bd3786"
             ],
             [
              0.5555555555555556,
              "#d8576b"
             ],
             [
              0.6666666666666666,
              "#ed7953"
             ],
             [
              0.7777777777777778,
              "#fb9f3a"
             ],
             [
              0.8888888888888888,
              "#fdca26"
             ],
             [
              1,
              "#f0f921"
             ]
            ],
            "type": "contour"
           }
          ],
          "contourcarpet": [
           {
            "colorbar": {
             "outlinewidth": 0,
             "ticks": ""
            },
            "type": "contourcarpet"
           }
          ],
          "heatmap": [
           {
            "colorbar": {
             "outlinewidth": 0,
             "ticks": ""
            },
            "colorscale": [
             [
              0,
              "#0d0887"
             ],
             [
              0.1111111111111111,
              "#46039f"
             ],
             [
              0.2222222222222222,
              "#7201a8"
             ],
             [
              0.3333333333333333,
              "#9c179e"
             ],
             [
              0.4444444444444444,
              "#bd3786"
             ],
             [
              0.5555555555555556,
              "#d8576b"
             ],
             [
              0.6666666666666666,
              "#ed7953"
             ],
             [
              0.7777777777777778,
              "#fb9f3a"
             ],
             [
              0.8888888888888888,
              "#fdca26"
             ],
             [
              1,
              "#f0f921"
             ]
            ],
            "type": "heatmap"
           }
          ],
          "heatmapgl": [
           {
            "colorbar": {
             "outlinewidth": 0,
             "ticks": ""
            },
            "colorscale": [
             [
              0,
              "#0d0887"
             ],
             [
              0.1111111111111111,
              "#46039f"
             ],
             [
              0.2222222222222222,
              "#7201a8"
             ],
             [
              0.3333333333333333,
              "#9c179e"
             ],
             [
              0.4444444444444444,
              "#bd3786"
             ],
             [
              0.5555555555555556,
              "#d8576b"
             ],
             [
              0.6666666666666666,
              "#ed7953"
             ],
             [
              0.7777777777777778,
              "#fb9f3a"
             ],
             [
              0.8888888888888888,
              "#fdca26"
             ],
             [
              1,
              "#f0f921"
             ]
            ],
            "type": "heatmapgl"
           }
          ],
          "histogram": [
           {
            "marker": {
             "pattern": {
              "fillmode": "overlay",
              "size": 10,
              "solidity": 0.2
             }
            },
            "type": "histogram"
           }
          ],
          "histogram2d": [
           {
            "colorbar": {
             "outlinewidth": 0,
             "ticks": ""
            },
            "colorscale": [
             [
              0,
              "#0d0887"
             ],
             [
              0.1111111111111111,
              "#46039f"
             ],
             [
              0.2222222222222222,
              "#7201a8"
             ],
             [
              0.3333333333333333,
              "#9c179e"
             ],
             [
              0.4444444444444444,
              "#bd3786"
             ],
             [
              0.5555555555555556,
              "#d8576b"
             ],
             [
              0.6666666666666666,
              "#ed7953"
             ],
             [
              0.7777777777777778,
              "#fb9f3a"
             ],
             [
              0.8888888888888888,
              "#fdca26"
             ],
             [
              1,
              "#f0f921"
             ]
            ],
            "type": "histogram2d"
           }
          ],
          "histogram2dcontour": [
           {
            "colorbar": {
             "outlinewidth": 0,
             "ticks": ""
            },
            "colorscale": [
             [
              0,
              "#0d0887"
             ],
             [
              0.1111111111111111,
              "#46039f"
             ],
             [
              0.2222222222222222,
              "#7201a8"
             ],
             [
              0.3333333333333333,
              "#9c179e"
             ],
             [
              0.4444444444444444,
              "#bd3786"
             ],
             [
              0.5555555555555556,
              "#d8576b"
             ],
             [
              0.6666666666666666,
              "#ed7953"
             ],
             [
              0.7777777777777778,
              "#fb9f3a"
             ],
             [
              0.8888888888888888,
              "#fdca26"
             ],
             [
              1,
              "#f0f921"
             ]
            ],
            "type": "histogram2dcontour"
           }
          ],
          "mesh3d": [
           {
            "colorbar": {
             "outlinewidth": 0,
             "ticks": ""
            },
            "type": "mesh3d"
           }
          ],
          "parcoords": [
           {
            "line": {
             "colorbar": {
              "outlinewidth": 0,
              "ticks": ""
             }
            },
            "type": "parcoords"
           }
          ],
          "pie": [
           {
            "automargin": true,
            "type": "pie"
           }
          ],
          "scatter": [
           {
            "fillpattern": {
             "fillmode": "overlay",
             "size": 10,
             "solidity": 0.2
            },
            "type": "scatter"
           }
          ],
          "scatter3d": [
           {
            "line": {
             "colorbar": {
              "outlinewidth": 0,
              "ticks": ""
             }
            },
            "marker": {
             "colorbar": {
              "outlinewidth": 0,
              "ticks": ""
             }
            },
            "type": "scatter3d"
           }
          ],
          "scattercarpet": [
           {
            "marker": {
             "colorbar": {
              "outlinewidth": 0,
              "ticks": ""
             }
            },
            "type": "scattercarpet"
           }
          ],
          "scattergeo": [
           {
            "marker": {
             "colorbar": {
              "outlinewidth": 0,
              "ticks": ""
             }
            },
            "type": "scattergeo"
           }
          ],
          "scattergl": [
           {
            "marker": {
             "colorbar": {
              "outlinewidth": 0,
              "ticks": ""
             }
            },
            "type": "scattergl"
           }
          ],
          "scattermapbox": [
           {
            "marker": {
             "colorbar": {
              "outlinewidth": 0,
              "ticks": ""
             }
            },
            "type": "scattermapbox"
           }
          ],
          "scatterpolar": [
           {
            "marker": {
             "colorbar": {
              "outlinewidth": 0,
              "ticks": ""
             }
            },
            "type": "scatterpolar"
           }
          ],
          "scatterpolargl": [
           {
            "marker": {
             "colorbar": {
              "outlinewidth": 0,
              "ticks": ""
             }
            },
            "type": "scatterpolargl"
           }
          ],
          "scatterternary": [
           {
            "marker": {
             "colorbar": {
              "outlinewidth": 0,
              "ticks": ""
             }
            },
            "type": "scatterternary"
           }
          ],
          "surface": [
           {
            "colorbar": {
             "outlinewidth": 0,
             "ticks": ""
            },
            "colorscale": [
             [
              0,
              "#0d0887"
             ],
             [
              0.1111111111111111,
              "#46039f"
             ],
             [
              0.2222222222222222,
              "#7201a8"
             ],
             [
              0.3333333333333333,
              "#9c179e"
             ],
             [
              0.4444444444444444,
              "#bd3786"
             ],
             [
              0.5555555555555556,
              "#d8576b"
             ],
             [
              0.6666666666666666,
              "#ed7953"
             ],
             [
              0.7777777777777778,
              "#fb9f3a"
             ],
             [
              0.8888888888888888,
              "#fdca26"
             ],
             [
              1,
              "#f0f921"
             ]
            ],
            "type": "surface"
           }
          ],
          "table": [
           {
            "cells": {
             "fill": {
              "color": "#EBF0F8"
             },
             "line": {
              "color": "white"
             }
            },
            "header": {
             "fill": {
              "color": "#C8D4E3"
             },
             "line": {
              "color": "white"
             }
            },
            "type": "table"
           }
          ]
         },
         "layout": {
          "annotationdefaults": {
           "arrowcolor": "#2a3f5f",
           "arrowhead": 0,
           "arrowwidth": 1
          },
          "autotypenumbers": "strict",
          "coloraxis": {
           "colorbar": {
            "outlinewidth": 0,
            "ticks": ""
           }
          },
          "colorscale": {
           "diverging": [
            [
             0,
             "#8e0152"
            ],
            [
             0.1,
             "#c51b7d"
            ],
            [
             0.2,
             "#de77ae"
            ],
            [
             0.3,
             "#f1b6da"
            ],
            [
             0.4,
             "#fde0ef"
            ],
            [
             0.5,
             "#f7f7f7"
            ],
            [
             0.6,
             "#e6f5d0"
            ],
            [
             0.7,
             "#b8e186"
            ],
            [
             0.8,
             "#7fbc41"
            ],
            [
             0.9,
             "#4d9221"
            ],
            [
             1,
             "#276419"
            ]
           ],
           "sequential": [
            [
             0,
             "#0d0887"
            ],
            [
             0.1111111111111111,
             "#46039f"
            ],
            [
             0.2222222222222222,
             "#7201a8"
            ],
            [
             0.3333333333333333,
             "#9c179e"
            ],
            [
             0.4444444444444444,
             "#bd3786"
            ],
            [
             0.5555555555555556,
             "#d8576b"
            ],
            [
             0.6666666666666666,
             "#ed7953"
            ],
            [
             0.7777777777777778,
             "#fb9f3a"
            ],
            [
             0.8888888888888888,
             "#fdca26"
            ],
            [
             1,
             "#f0f921"
            ]
           ],
           "sequentialminus": [
            [
             0,
             "#0d0887"
            ],
            [
             0.1111111111111111,
             "#46039f"
            ],
            [
             0.2222222222222222,
             "#7201a8"
            ],
            [
             0.3333333333333333,
             "#9c179e"
            ],
            [
             0.4444444444444444,
             "#bd3786"
            ],
            [
             0.5555555555555556,
             "#d8576b"
            ],
            [
             0.6666666666666666,
             "#ed7953"
            ],
            [
             0.7777777777777778,
             "#fb9f3a"
            ],
            [
             0.8888888888888888,
             "#fdca26"
            ],
            [
             1,
             "#f0f921"
            ]
           ]
          },
          "colorway": [
           "#636efa",
           "#EF553B",
           "#00cc96",
           "#ab63fa",
           "#FFA15A",
           "#19d3f3",
           "#FF6692",
           "#B6E880",
           "#FF97FF",
           "#FECB52"
          ],
          "font": {
           "color": "#2a3f5f"
          },
          "geo": {
           "bgcolor": "white",
           "lakecolor": "white",
           "landcolor": "#E5ECF6",
           "showlakes": true,
           "showland": true,
           "subunitcolor": "white"
          },
          "hoverlabel": {
           "align": "left"
          },
          "hovermode": "closest",
          "mapbox": {
           "style": "light"
          },
          "paper_bgcolor": "white",
          "plot_bgcolor": "#E5ECF6",
          "polar": {
           "angularaxis": {
            "gridcolor": "white",
            "linecolor": "white",
            "ticks": ""
           },
           "bgcolor": "#E5ECF6",
           "radialaxis": {
            "gridcolor": "white",
            "linecolor": "white",
            "ticks": ""
           }
          },
          "scene": {
           "xaxis": {
            "backgroundcolor": "#E5ECF6",
            "gridcolor": "white",
            "gridwidth": 2,
            "linecolor": "white",
            "showbackground": true,
            "ticks": "",
            "zerolinecolor": "white"
           },
           "yaxis": {
            "backgroundcolor": "#E5ECF6",
            "gridcolor": "white",
            "gridwidth": 2,
            "linecolor": "white",
            "showbackground": true,
            "ticks": "",
            "zerolinecolor": "white"
           },
           "zaxis": {
            "backgroundcolor": "#E5ECF6",
            "gridcolor": "white",
            "gridwidth": 2,
            "linecolor": "white",
            "showbackground": true,
            "ticks": "",
            "zerolinecolor": "white"
           }
          },
          "shapedefaults": {
           "line": {
            "color": "#2a3f5f"
           }
          },
          "ternary": {
           "aaxis": {
            "gridcolor": "white",
            "linecolor": "white",
            "ticks": ""
           },
           "baxis": {
            "gridcolor": "white",
            "linecolor": "white",
            "ticks": ""
           },
           "bgcolor": "#E5ECF6",
           "caxis": {
            "gridcolor": "white",
            "linecolor": "white",
            "ticks": ""
           }
          },
          "title": {
           "x": 0.05
          },
          "xaxis": {
           "automargin": true,
           "gridcolor": "white",
           "linecolor": "white",
           "ticks": "",
           "title": {
            "standoff": 15
           },
           "zerolinecolor": "white",
           "zerolinewidth": 2
          },
          "yaxis": {
           "automargin": true,
           "gridcolor": "white",
           "linecolor": "white",
           "ticks": "",
           "title": {
            "standoff": 15
           },
           "zerolinecolor": "white",
           "zerolinewidth": 2
          }
         }
        },
        "title": {
         "text": "Daily Electricity Consumption by Property Type",
         "x": 0.5
        },
        "xaxis": {
         "ticktext": [
          "Jan",
          "Feb",
          "Mar",
          "Apr",
          "May",
          "Jun",
          "Jul",
          "Aug",
          "Sep",
          "Oct",
          "Nov",
          "Dec"
         ],
         "tickvals": [
          1,
          2,
          3,
          4,
          5,
          6,
          7,
          8,
          9,
          10,
          11,
          12
         ],
         "title": {
          "text": "Month"
         }
        },
        "yaxis": {
         "title": {
          "text": "Consumption (kWh)"
         }
        }
       }
      }
     },
     "metadata": {},
     "output_type": "display_data"
    }
   ],
   "source": [
    "visualize_electricity_consumption(df)"
   ]
  },
  {
   "cell_type": "code",
   "execution_count": 76,
   "metadata": {},
   "outputs": [],
   "source": [
    "def create_table(result):\n",
    "    # Define month names\n",
    "    month_names = ['January', 'February', 'March', 'April', 'May', 'June',\n",
    "                  'July', 'August', 'September', 'October', 'November', 'December']\n",
    "    \n",
    "    # Create table data\n",
    "    table_data = [\n",
    "        ['Month', 'Apartment (kWh)', 'House (kWh)']  # Header\n",
    "    ]\n",
    "    \n",
    "    # # Add data rows\n",
    "    for month in range(1, 13):\n",
    "        if month in result.index:\n",
    "            apt_value = result.loc[month, 'Butas']\n",
    "            house_value = result.loc[month, 'Namas']\n",
    "            table_data.append([\n",
    "                month_names[month-1],\n",
    "                f\"{apt_value:.3f}\",\n",
    "                f\"{house_value:.3f}\"\n",
    "            ])\n",
    "\n",
    "    # Create figure for table\n",
    "    fig_table = go.Figure(data=[go.Table(\n",
    "        header=dict(\n",
    "            values=table_data[0],\n",
    "            fill_color='#C8D4E3',\n",
    "            align='center',\n",
    "            font=dict(size=11, color='black'),\n",
    "            height=25\n",
    "        ),\n",
    "        cells=dict(\n",
    "            values=list(zip(*table_data[1:])),\n",
    "            fill_color='white',\n",
    "            align=['center', 'center', 'center'],\n",
    "            font=dict(size=10),\n",
    "            height=20\n",
    "        )\n",
    "    )])\n",
    "\n",
    "\n",
    "    fig_table.update_layout(\n",
    "        title='Average electricity consumption per day (kWh)',\n",
    "        title_x=0.5,\n",
    "        height=325,\n",
    "        margin=dict(l=20, r=20, t=40, b=20)\n",
    "    )\n",
    "\n",
    "    fig_table.show()\n",
    "    \n",
    "    fig_table.write_image(\n",
    "    \"images/Average_electricity_consumption.png\",\n",
    "    scale=3,         \n",
    "    width=1200,      \n",
    "    height=350       \n",
    ")"
   ]
  },
  {
   "cell_type": "code",
   "execution_count": 77,
   "metadata": {},
   "outputs": [
    {
     "data": {
      "application/vnd.plotly.v1+json": {
       "config": {
        "plotlyServerURL": "https://plot.ly"
       },
       "data": [
        {
         "cells": {
          "align": [
           "center",
           "center",
           "center"
          ],
          "fill": {
           "color": "white"
          },
          "font": {
           "size": 10
          },
          "height": 20,
          "values": [
           [
            "January",
            "February",
            "March",
            "April",
            "May",
            "June",
            "July",
            "August",
            "September",
            "October",
            "November",
            "December"
           ],
           [
            "4.110",
            "4.122",
            "3.886",
            "3.663",
            "3.592",
            "2.753",
            "2.577",
            "2.750",
            "3.350",
            "3.729",
            "4.008",
            "3.986"
           ],
           [
            "20.984",
            "19.139",
            "15.753",
            "12.522",
            "8.941",
            "6.387",
            "6.317",
            "7.143",
            "9.582",
            "13.915",
            "18.169",
            "22.292"
           ]
          ]
         },
         "header": {
          "align": "center",
          "fill": {
           "color": "#C8D4E3"
          },
          "font": {
           "color": "black",
           "size": 11
          },
          "height": 25,
          "values": [
           "Month",
           "Apartment (kWh)",
           "House (kWh)"
          ]
         },
         "type": "table"
        }
       ],
       "layout": {
        "height": 325,
        "margin": {
         "b": 20,
         "l": 20,
         "r": 20,
         "t": 40
        },
        "template": {
         "data": {
          "bar": [
           {
            "error_x": {
             "color": "#2a3f5f"
            },
            "error_y": {
             "color": "#2a3f5f"
            },
            "marker": {
             "line": {
              "color": "#E5ECF6",
              "width": 0.5
             },
             "pattern": {
              "fillmode": "overlay",
              "size": 10,
              "solidity": 0.2
             }
            },
            "type": "bar"
           }
          ],
          "barpolar": [
           {
            "marker": {
             "line": {
              "color": "#E5ECF6",
              "width": 0.5
             },
             "pattern": {
              "fillmode": "overlay",
              "size": 10,
              "solidity": 0.2
             }
            },
            "type": "barpolar"
           }
          ],
          "carpet": [
           {
            "aaxis": {
             "endlinecolor": "#2a3f5f",
             "gridcolor": "white",
             "linecolor": "white",
             "minorgridcolor": "white",
             "startlinecolor": "#2a3f5f"
            },
            "baxis": {
             "endlinecolor": "#2a3f5f",
             "gridcolor": "white",
             "linecolor": "white",
             "minorgridcolor": "white",
             "startlinecolor": "#2a3f5f"
            },
            "type": "carpet"
           }
          ],
          "choropleth": [
           {
            "colorbar": {
             "outlinewidth": 0,
             "ticks": ""
            },
            "type": "choropleth"
           }
          ],
          "contour": [
           {
            "colorbar": {
             "outlinewidth": 0,
             "ticks": ""
            },
            "colorscale": [
             [
              0,
              "#0d0887"
             ],
             [
              0.1111111111111111,
              "#46039f"
             ],
             [
              0.2222222222222222,
              "#7201a8"
             ],
             [
              0.3333333333333333,
              "#9c179e"
             ],
             [
              0.4444444444444444,
              "#bd3786"
             ],
             [
              0.5555555555555556,
              "#d8576b"
             ],
             [
              0.6666666666666666,
              "#ed7953"
             ],
             [
              0.7777777777777778,
              "#fb9f3a"
             ],
             [
              0.8888888888888888,
              "#fdca26"
             ],
             [
              1,
              "#f0f921"
             ]
            ],
            "type": "contour"
           }
          ],
          "contourcarpet": [
           {
            "colorbar": {
             "outlinewidth": 0,
             "ticks": ""
            },
            "type": "contourcarpet"
           }
          ],
          "heatmap": [
           {
            "colorbar": {
             "outlinewidth": 0,
             "ticks": ""
            },
            "colorscale": [
             [
              0,
              "#0d0887"
             ],
             [
              0.1111111111111111,
              "#46039f"
             ],
             [
              0.2222222222222222,
              "#7201a8"
             ],
             [
              0.3333333333333333,
              "#9c179e"
             ],
             [
              0.4444444444444444,
              "#bd3786"
             ],
             [
              0.5555555555555556,
              "#d8576b"
             ],
             [
              0.6666666666666666,
              "#ed7953"
             ],
             [
              0.7777777777777778,
              "#fb9f3a"
             ],
             [
              0.8888888888888888,
              "#fdca26"
             ],
             [
              1,
              "#f0f921"
             ]
            ],
            "type": "heatmap"
           }
          ],
          "heatmapgl": [
           {
            "colorbar": {
             "outlinewidth": 0,
             "ticks": ""
            },
            "colorscale": [
             [
              0,
              "#0d0887"
             ],
             [
              0.1111111111111111,
              "#46039f"
             ],
             [
              0.2222222222222222,
              "#7201a8"
             ],
             [
              0.3333333333333333,
              "#9c179e"
             ],
             [
              0.4444444444444444,
              "#bd3786"
             ],
             [
              0.5555555555555556,
              "#d8576b"
             ],
             [
              0.6666666666666666,
              "#ed7953"
             ],
             [
              0.7777777777777778,
              "#fb9f3a"
             ],
             [
              0.8888888888888888,
              "#fdca26"
             ],
             [
              1,
              "#f0f921"
             ]
            ],
            "type": "heatmapgl"
           }
          ],
          "histogram": [
           {
            "marker": {
             "pattern": {
              "fillmode": "overlay",
              "size": 10,
              "solidity": 0.2
             }
            },
            "type": "histogram"
           }
          ],
          "histogram2d": [
           {
            "colorbar": {
             "outlinewidth": 0,
             "ticks": ""
            },
            "colorscale": [
             [
              0,
              "#0d0887"
             ],
             [
              0.1111111111111111,
              "#46039f"
             ],
             [
              0.2222222222222222,
              "#7201a8"
             ],
             [
              0.3333333333333333,
              "#9c179e"
             ],
             [
              0.4444444444444444,
              "#bd3786"
             ],
             [
              0.5555555555555556,
              "#d8576b"
             ],
             [
              0.6666666666666666,
              "#ed7953"
             ],
             [
              0.7777777777777778,
              "#fb9f3a"
             ],
             [
              0.8888888888888888,
              "#fdca26"
             ],
             [
              1,
              "#f0f921"
             ]
            ],
            "type": "histogram2d"
           }
          ],
          "histogram2dcontour": [
           {
            "colorbar": {
             "outlinewidth": 0,
             "ticks": ""
            },
            "colorscale": [
             [
              0,
              "#0d0887"
             ],
             [
              0.1111111111111111,
              "#46039f"
             ],
             [
              0.2222222222222222,
              "#7201a8"
             ],
             [
              0.3333333333333333,
              "#9c179e"
             ],
             [
              0.4444444444444444,
              "#bd3786"
             ],
             [
              0.5555555555555556,
              "#d8576b"
             ],
             [
              0.6666666666666666,
              "#ed7953"
             ],
             [
              0.7777777777777778,
              "#fb9f3a"
             ],
             [
              0.8888888888888888,
              "#fdca26"
             ],
             [
              1,
              "#f0f921"
             ]
            ],
            "type": "histogram2dcontour"
           }
          ],
          "mesh3d": [
           {
            "colorbar": {
             "outlinewidth": 0,
             "ticks": ""
            },
            "type": "mesh3d"
           }
          ],
          "parcoords": [
           {
            "line": {
             "colorbar": {
              "outlinewidth": 0,
              "ticks": ""
             }
            },
            "type": "parcoords"
           }
          ],
          "pie": [
           {
            "automargin": true,
            "type": "pie"
           }
          ],
          "scatter": [
           {
            "fillpattern": {
             "fillmode": "overlay",
             "size": 10,
             "solidity": 0.2
            },
            "type": "scatter"
           }
          ],
          "scatter3d": [
           {
            "line": {
             "colorbar": {
              "outlinewidth": 0,
              "ticks": ""
             }
            },
            "marker": {
             "colorbar": {
              "outlinewidth": 0,
              "ticks": ""
             }
            },
            "type": "scatter3d"
           }
          ],
          "scattercarpet": [
           {
            "marker": {
             "colorbar": {
              "outlinewidth": 0,
              "ticks": ""
             }
            },
            "type": "scattercarpet"
           }
          ],
          "scattergeo": [
           {
            "marker": {
             "colorbar": {
              "outlinewidth": 0,
              "ticks": ""
             }
            },
            "type": "scattergeo"
           }
          ],
          "scattergl": [
           {
            "marker": {
             "colorbar": {
              "outlinewidth": 0,
              "ticks": ""
             }
            },
            "type": "scattergl"
           }
          ],
          "scattermapbox": [
           {
            "marker": {
             "colorbar": {
              "outlinewidth": 0,
              "ticks": ""
             }
            },
            "type": "scattermapbox"
           }
          ],
          "scatterpolar": [
           {
            "marker": {
             "colorbar": {
              "outlinewidth": 0,
              "ticks": ""
             }
            },
            "type": "scatterpolar"
           }
          ],
          "scatterpolargl": [
           {
            "marker": {
             "colorbar": {
              "outlinewidth": 0,
              "ticks": ""
             }
            },
            "type": "scatterpolargl"
           }
          ],
          "scatterternary": [
           {
            "marker": {
             "colorbar": {
              "outlinewidth": 0,
              "ticks": ""
             }
            },
            "type": "scatterternary"
           }
          ],
          "surface": [
           {
            "colorbar": {
             "outlinewidth": 0,
             "ticks": ""
            },
            "colorscale": [
             [
              0,
              "#0d0887"
             ],
             [
              0.1111111111111111,
              "#46039f"
             ],
             [
              0.2222222222222222,
              "#7201a8"
             ],
             [
              0.3333333333333333,
              "#9c179e"
             ],
             [
              0.4444444444444444,
              "#bd3786"
             ],
             [
              0.5555555555555556,
              "#d8576b"
             ],
             [
              0.6666666666666666,
              "#ed7953"
             ],
             [
              0.7777777777777778,
              "#fb9f3a"
             ],
             [
              0.8888888888888888,
              "#fdca26"
             ],
             [
              1,
              "#f0f921"
             ]
            ],
            "type": "surface"
           }
          ],
          "table": [
           {
            "cells": {
             "fill": {
              "color": "#EBF0F8"
             },
             "line": {
              "color": "white"
             }
            },
            "header": {
             "fill": {
              "color": "#C8D4E3"
             },
             "line": {
              "color": "white"
             }
            },
            "type": "table"
           }
          ]
         },
         "layout": {
          "annotationdefaults": {
           "arrowcolor": "#2a3f5f",
           "arrowhead": 0,
           "arrowwidth": 1
          },
          "autotypenumbers": "strict",
          "coloraxis": {
           "colorbar": {
            "outlinewidth": 0,
            "ticks": ""
           }
          },
          "colorscale": {
           "diverging": [
            [
             0,
             "#8e0152"
            ],
            [
             0.1,
             "#c51b7d"
            ],
            [
             0.2,
             "#de77ae"
            ],
            [
             0.3,
             "#f1b6da"
            ],
            [
             0.4,
             "#fde0ef"
            ],
            [
             0.5,
             "#f7f7f7"
            ],
            [
             0.6,
             "#e6f5d0"
            ],
            [
             0.7,
             "#b8e186"
            ],
            [
             0.8,
             "#7fbc41"
            ],
            [
             0.9,
             "#4d9221"
            ],
            [
             1,
             "#276419"
            ]
           ],
           "sequential": [
            [
             0,
             "#0d0887"
            ],
            [
             0.1111111111111111,
             "#46039f"
            ],
            [
             0.2222222222222222,
             "#7201a8"
            ],
            [
             0.3333333333333333,
             "#9c179e"
            ],
            [
             0.4444444444444444,
             "#bd3786"
            ],
            [
             0.5555555555555556,
             "#d8576b"
            ],
            [
             0.6666666666666666,
             "#ed7953"
            ],
            [
             0.7777777777777778,
             "#fb9f3a"
            ],
            [
             0.8888888888888888,
             "#fdca26"
            ],
            [
             1,
             "#f0f921"
            ]
           ],
           "sequentialminus": [
            [
             0,
             "#0d0887"
            ],
            [
             0.1111111111111111,
             "#46039f"
            ],
            [
             0.2222222222222222,
             "#7201a8"
            ],
            [
             0.3333333333333333,
             "#9c179e"
            ],
            [
             0.4444444444444444,
             "#bd3786"
            ],
            [
             0.5555555555555556,
             "#d8576b"
            ],
            [
             0.6666666666666666,
             "#ed7953"
            ],
            [
             0.7777777777777778,
             "#fb9f3a"
            ],
            [
             0.8888888888888888,
             "#fdca26"
            ],
            [
             1,
             "#f0f921"
            ]
           ]
          },
          "colorway": [
           "#636efa",
           "#EF553B",
           "#00cc96",
           "#ab63fa",
           "#FFA15A",
           "#19d3f3",
           "#FF6692",
           "#B6E880",
           "#FF97FF",
           "#FECB52"
          ],
          "font": {
           "color": "#2a3f5f"
          },
          "geo": {
           "bgcolor": "white",
           "lakecolor": "white",
           "landcolor": "#E5ECF6",
           "showlakes": true,
           "showland": true,
           "subunitcolor": "white"
          },
          "hoverlabel": {
           "align": "left"
          },
          "hovermode": "closest",
          "mapbox": {
           "style": "light"
          },
          "paper_bgcolor": "white",
          "plot_bgcolor": "#E5ECF6",
          "polar": {
           "angularaxis": {
            "gridcolor": "white",
            "linecolor": "white",
            "ticks": ""
           },
           "bgcolor": "#E5ECF6",
           "radialaxis": {
            "gridcolor": "white",
            "linecolor": "white",
            "ticks": ""
           }
          },
          "scene": {
           "xaxis": {
            "backgroundcolor": "#E5ECF6",
            "gridcolor": "white",
            "gridwidth": 2,
            "linecolor": "white",
            "showbackground": true,
            "ticks": "",
            "zerolinecolor": "white"
           },
           "yaxis": {
            "backgroundcolor": "#E5ECF6",
            "gridcolor": "white",
            "gridwidth": 2,
            "linecolor": "white",
            "showbackground": true,
            "ticks": "",
            "zerolinecolor": "white"
           },
           "zaxis": {
            "backgroundcolor": "#E5ECF6",
            "gridcolor": "white",
            "gridwidth": 2,
            "linecolor": "white",
            "showbackground": true,
            "ticks": "",
            "zerolinecolor": "white"
           }
          },
          "shapedefaults": {
           "line": {
            "color": "#2a3f5f"
           }
          },
          "ternary": {
           "aaxis": {
            "gridcolor": "white",
            "linecolor": "white",
            "ticks": ""
           },
           "baxis": {
            "gridcolor": "white",
            "linecolor": "white",
            "ticks": ""
           },
           "bgcolor": "#E5ECF6",
           "caxis": {
            "gridcolor": "white",
            "linecolor": "white",
            "ticks": ""
           }
          },
          "title": {
           "x": 0.05
          },
          "xaxis": {
           "automargin": true,
           "gridcolor": "white",
           "linecolor": "white",
           "ticks": "",
           "title": {
            "standoff": 15
           },
           "zerolinecolor": "white",
           "zerolinewidth": 2
          },
          "yaxis": {
           "automargin": true,
           "gridcolor": "white",
           "linecolor": "white",
           "ticks": "",
           "title": {
            "standoff": 15
           },
           "zerolinecolor": "white",
           "zerolinewidth": 2
          }
         }
        },
        "title": {
         "text": "Average electricity consumption per day (kWh)",
         "x": 0.5
        }
       }
      }
     },
     "metadata": {},
     "output_type": "display_data"
    }
   ],
   "source": [
    "create_table(result)\n"
   ]
  },
  {
   "cell_type": "markdown",
   "metadata": {},
   "source": [
    "### C. When was the most expensive electricity in 2022 (date and time) and how much is this price as a percentage of average electricity prices for such an hour in that year?\n",
    "\n",
    "##### Data on the NordPool exchange: https://www.litgrid.eu/index.php/sistemos-duomenys/elektros-energijoskainos/86."
   ]
  },
  {
   "cell_type": "code",
   "execution_count": 33,
   "metadata": {},
   "outputs": [
    {
     "name": "stdout",
     "output_type": "stream",
     "text": [
      "2022 Nordpool price analysis:\n",
      "Date and time: 2022-08-17 18:00:00\n",
      "Price: 4000.00 EUR/MWh\n",
      "Average price for hour 18:00: 278.98 EUR/MWh\n",
      "The highest price is 1433.8% of the average price for that hour\n"
     ]
    }
   ],
   "source": [
    "df_prices = pd.read_hdf('data/h5/electricity_prices.h5', key='prices')\n",
    "\n",
    "df_prices['date'] = pd.to_datetime(df_prices['date'])\n",
    "\n",
    "# Maximum price and its date/time\n",
    "max_price_row = df_prices.loc[df_prices['price'].idxmax()]\n",
    "max_price = max_price_row['price']\n",
    "max_price_datetime = max_price_row['date']\n",
    "max_price_hour = max_price_datetime.hour\n",
    "\n",
    "\n",
    "avg_hour_price = df_prices[df_prices['date'].dt.hour == max_price_hour]['price'].mean()\n",
    "\n",
    "percentage = (max_price / avg_hour_price) * 100\n",
    "\n",
    "print(f\"2022 Nordpool price analysis:\")\n",
    "print(f\"Date and time: {max_price_datetime}\")\n",
    "print(f\"Price: {max_price:.2f} EUR/MWh\")\n",
    "print(f\"Average price for hour {max_price_hour:02d}:00: {avg_hour_price:.2f} EUR/MWh\")\n",
    "print(f\"The highest price is {percentage:.1f}% of the average price for that hour\")"
   ]
  }
 ],
 "metadata": {
  "kernelspec": {
   "display_name": "profiles",
   "language": "python",
   "name": "python3"
  },
  "language_info": {
   "codemirror_mode": {
    "name": "ipython",
    "version": 3
   },
   "file_extension": ".py",
   "mimetype": "text/x-python",
   "name": "python",
   "nbconvert_exporter": "python",
   "pygments_lexer": "ipython3",
   "version": "3.11.9"
  }
 },
 "nbformat": 4,
 "nbformat_minor": 2
}
