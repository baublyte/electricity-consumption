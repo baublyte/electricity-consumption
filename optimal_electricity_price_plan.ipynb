{
 "cells": [
  {
   "cell_type": "markdown",
   "metadata": {},
   "source": [
    "## Optimal electricity price plan "
   ]
  },
  {
   "cell_type": "code",
   "execution_count": 246,
   "metadata": {},
   "outputs": [],
   "source": [
    "import pandas as pd\n",
    "import numpy as np\n",
    "import plotly.graph_objects as go"
   ]
  },
  {
   "cell_type": "code",
   "execution_count": 247,
   "metadata": {},
   "outputs": [
    {
     "data": {
      "text/html": [
       "<div>\n",
       "<style scoped>\n",
       "    .dataframe tbody tr th:only-of-type {\n",
       "        vertical-align: middle;\n",
       "    }\n",
       "\n",
       "    .dataframe tbody tr th {\n",
       "        vertical-align: top;\n",
       "    }\n",
       "\n",
       "    .dataframe thead th {\n",
       "        text-align: right;\n",
       "    }\n",
       "</style>\n",
       "<table border=\"1\" class=\"dataframe\">\n",
       "  <thead>\n",
       "    <tr style=\"text-align: right;\">\n",
       "      <th></th>\n",
       "      <th>TINKLAS</th>\n",
       "      <th>OBT_PAVADINIMAS</th>\n",
       "      <th>OBJ_GV_TIPAS</th>\n",
       "      <th>OBJ_NUMERIS</th>\n",
       "      <th>P+</th>\n",
       "      <th>PL_T</th>\n",
       "      <th>P-</th>\n",
       "    </tr>\n",
       "  </thead>\n",
       "  <tbody>\n",
       "    <tr>\n",
       "      <th>2</th>\n",
       "      <td>Alytaus regiono tinklas</td>\n",
       "      <td>Butas</td>\n",
       "      <td>Ne GV</td>\n",
       "      <td>37502</td>\n",
       "      <td>0.0500</td>\n",
       "      <td>2020-06-30 00:00:00</td>\n",
       "      <td>0.0</td>\n",
       "    </tr>\n",
       "    <tr>\n",
       "      <th>5</th>\n",
       "      <td>Vilniaus regiono tinklas</td>\n",
       "      <td>Butas</td>\n",
       "      <td>Ne GV</td>\n",
       "      <td>600022</td>\n",
       "      <td>0.0230</td>\n",
       "      <td>2020-06-30 00:00:00</td>\n",
       "      <td>0.0</td>\n",
       "    </tr>\n",
       "    <tr>\n",
       "      <th>17</th>\n",
       "      <td>Kauno regiono tinklas</td>\n",
       "      <td>Butas</td>\n",
       "      <td>N</td>\n",
       "      <td>197974</td>\n",
       "      <td>0.1058</td>\n",
       "      <td>2020-06-30 00:00:00</td>\n",
       "      <td>0.0</td>\n",
       "    </tr>\n",
       "    <tr>\n",
       "      <th>23</th>\n",
       "      <td>Vilniaus regiono tinklas</td>\n",
       "      <td>Butas</td>\n",
       "      <td>Ne GV</td>\n",
       "      <td>535458</td>\n",
       "      <td>0.0400</td>\n",
       "      <td>2020-06-30 00:00:00</td>\n",
       "      <td>0.0</td>\n",
       "    </tr>\n",
       "    <tr>\n",
       "      <th>43</th>\n",
       "      <td>Kauno regiono tinklas</td>\n",
       "      <td>Butas</td>\n",
       "      <td>Ne GV</td>\n",
       "      <td>193160</td>\n",
       "      <td>0.1340</td>\n",
       "      <td>2020-06-30 00:00:00</td>\n",
       "      <td>0.0</td>\n",
       "    </tr>\n",
       "    <tr>\n",
       "      <th>...</th>\n",
       "      <td>...</td>\n",
       "      <td>...</td>\n",
       "      <td>...</td>\n",
       "      <td>...</td>\n",
       "      <td>...</td>\n",
       "      <td>...</td>\n",
       "      <td>...</td>\n",
       "    </tr>\n",
       "    <tr>\n",
       "      <th>11816427</th>\n",
       "      <td>Vilniaus regiono tinklas</td>\n",
       "      <td>Butas</td>\n",
       "      <td>Ne GV</td>\n",
       "      <td>578418</td>\n",
       "      <td>0.1070</td>\n",
       "      <td>2022-05-01 01:00:00</td>\n",
       "      <td>0.0</td>\n",
       "    </tr>\n",
       "    <tr>\n",
       "      <th>11816434</th>\n",
       "      <td>Vilniaus regiono tinklas</td>\n",
       "      <td>Butas</td>\n",
       "      <td>Ne GV</td>\n",
       "      <td>585738</td>\n",
       "      <td>0.0260</td>\n",
       "      <td>2022-05-01 01:00:00</td>\n",
       "      <td>0.0</td>\n",
       "    </tr>\n",
       "    <tr>\n",
       "      <th>11816450</th>\n",
       "      <td>Vilniaus regiono tinklas</td>\n",
       "      <td>Butas</td>\n",
       "      <td>Ne GV</td>\n",
       "      <td>578178</td>\n",
       "      <td>0.0940</td>\n",
       "      <td>2022-05-01 01:00:00</td>\n",
       "      <td>0.0</td>\n",
       "    </tr>\n",
       "    <tr>\n",
       "      <th>11816458</th>\n",
       "      <td>Vilniaus regiono tinklas</td>\n",
       "      <td>Butas</td>\n",
       "      <td>Ne GV</td>\n",
       "      <td>575298</td>\n",
       "      <td>0.0380</td>\n",
       "      <td>2022-05-01 01:00:00</td>\n",
       "      <td>0.0</td>\n",
       "    </tr>\n",
       "    <tr>\n",
       "      <th>11816461</th>\n",
       "      <td>Vilniaus regiono tinklas</td>\n",
       "      <td>Butas</td>\n",
       "      <td>Ne GV</td>\n",
       "      <td>573378</td>\n",
       "      <td>0.0290</td>\n",
       "      <td>2022-05-01 01:00:00</td>\n",
       "      <td>0.0</td>\n",
       "    </tr>\n",
       "  </tbody>\n",
       "</table>\n",
       "<p>1243920 rows × 7 columns</p>\n",
       "</div>"
      ],
      "text/plain": [
       "                           TINKLAS OBT_PAVADINIMAS OBJ_GV_TIPAS  OBJ_NUMERIS  \\\n",
       "2          Alytaus regiono tinklas           Butas        Ne GV        37502   \n",
       "5         Vilniaus regiono tinklas           Butas        Ne GV       600022   \n",
       "17           Kauno regiono tinklas           Butas            N       197974   \n",
       "23        Vilniaus regiono tinklas           Butas        Ne GV       535458   \n",
       "43           Kauno regiono tinklas           Butas        Ne GV       193160   \n",
       "...                            ...             ...          ...          ...   \n",
       "11816427  Vilniaus regiono tinklas           Butas        Ne GV       578418   \n",
       "11816434  Vilniaus regiono tinklas           Butas        Ne GV       585738   \n",
       "11816450  Vilniaus regiono tinklas           Butas        Ne GV       578178   \n",
       "11816458  Vilniaus regiono tinklas           Butas        Ne GV       575298   \n",
       "11816461  Vilniaus regiono tinklas           Butas        Ne GV       573378   \n",
       "\n",
       "              P+                PL_T   P-  \n",
       "2         0.0500 2020-06-30 00:00:00  0.0  \n",
       "5         0.0230 2020-06-30 00:00:00  0.0  \n",
       "17        0.1058 2020-06-30 00:00:00  0.0  \n",
       "23        0.0400 2020-06-30 00:00:00  0.0  \n",
       "43        0.1340 2020-06-30 00:00:00  0.0  \n",
       "...          ...                 ...  ...  \n",
       "11816427  0.1070 2022-05-01 01:00:00  0.0  \n",
       "11816434  0.0260 2022-05-01 01:00:00  0.0  \n",
       "11816450  0.0940 2022-05-01 01:00:00  0.0  \n",
       "11816458  0.0380 2022-05-01 01:00:00  0.0  \n",
       "11816461  0.0290 2022-05-01 01:00:00  0.0  \n",
       "\n",
       "[1243920 rows x 7 columns]"
      ]
     },
     "execution_count": 247,
     "metadata": {},
     "output_type": "execute_result"
    }
   ],
   "source": [
    "df = pd.read_hdf('data/h5/cleaned_data.h5')\n",
    "df = df[df['OBT_PAVADINIMAS'] == 'Butas']\n",
    "df['PL_T'] = pd.to_datetime(df['PL_T'])\n",
    "\n",
    "df"
   ]
  },
  {
   "cell_type": "code",
   "execution_count": 248,
   "metadata": {},
   "outputs": [
    {
     "name": "stdout",
     "output_type": "stream",
     "text": [
      "Number of apartments: 71\n"
     ]
    }
   ],
   "source": [
    "remaining_objects = df['OBJ_NUMERIS'].nunique()\n",
    "\n",
    "print(f\"Number of apartments: {remaining_objects}\")"
   ]
  },
  {
   "cell_type": "code",
   "execution_count": 249,
   "metadata": {},
   "outputs": [
    {
     "name": "stderr",
     "output_type": "stream",
     "text": [
      "C:\\Users\\baubl\\AppData\\Local\\Temp\\ipykernel_39008\\3956794645.py:2: UserWarning:\n",
      "\n",
      "Parsing dates in %d/%m/%Y %H:%M format when dayfirst=False (the default) was specified. Pass `dayfirst=True` or specify a format to silence this warning.\n",
      "\n"
     ]
    },
    {
     "data": {
      "text/html": [
       "<div>\n",
       "<style scoped>\n",
       "    .dataframe tbody tr th:only-of-type {\n",
       "        vertical-align: middle;\n",
       "    }\n",
       "\n",
       "    .dataframe tbody tr th {\n",
       "        vertical-align: top;\n",
       "    }\n",
       "\n",
       "    .dataframe thead th {\n",
       "        text-align: right;\n",
       "    }\n",
       "</style>\n",
       "<table border=\"1\" class=\"dataframe\">\n",
       "  <thead>\n",
       "    <tr style=\"text-align: right;\">\n",
       "      <th></th>\n",
       "      <th>datetime</th>\n",
       "      <th>price</th>\n",
       "    </tr>\n",
       "  </thead>\n",
       "  <tbody>\n",
       "    <tr>\n",
       "      <th>0</th>\n",
       "      <td>2022-05-31 23:00:00</td>\n",
       "      <td>240.01</td>\n",
       "    </tr>\n",
       "    <tr>\n",
       "      <th>1</th>\n",
       "      <td>2022-05-31 22:00:00</td>\n",
       "      <td>247.51</td>\n",
       "    </tr>\n",
       "    <tr>\n",
       "      <th>2</th>\n",
       "      <td>2022-05-31 21:00:00</td>\n",
       "      <td>258.67</td>\n",
       "    </tr>\n",
       "    <tr>\n",
       "      <th>3</th>\n",
       "      <td>2022-05-31 20:00:00</td>\n",
       "      <td>255.02</td>\n",
       "    </tr>\n",
       "    <tr>\n",
       "      <th>4</th>\n",
       "      <td>2022-05-31 19:00:00</td>\n",
       "      <td>234.97</td>\n",
       "    </tr>\n",
       "    <tr>\n",
       "      <th>...</th>\n",
       "      <td>...</td>\n",
       "      <td>...</td>\n",
       "    </tr>\n",
       "    <tr>\n",
       "      <th>17515</th>\n",
       "      <td>2020-06-01 04:00:00</td>\n",
       "      <td>4.56</td>\n",
       "    </tr>\n",
       "    <tr>\n",
       "      <th>17516</th>\n",
       "      <td>2020-06-01 03:00:00</td>\n",
       "      <td>4.54</td>\n",
       "    </tr>\n",
       "    <tr>\n",
       "      <th>17517</th>\n",
       "      <td>2020-06-01 02:00:00</td>\n",
       "      <td>4.16</td>\n",
       "    </tr>\n",
       "    <tr>\n",
       "      <th>17518</th>\n",
       "      <td>2020-06-01 01:00:00</td>\n",
       "      <td>4.54</td>\n",
       "    </tr>\n",
       "    <tr>\n",
       "      <th>17519</th>\n",
       "      <td>2020-06-01 00:00:00</td>\n",
       "      <td>3.88</td>\n",
       "    </tr>\n",
       "  </tbody>\n",
       "</table>\n",
       "<p>17520 rows × 2 columns</p>\n",
       "</div>"
      ],
      "text/plain": [
       "                 datetime   price\n",
       "0     2022-05-31 23:00:00  240.01\n",
       "1     2022-05-31 22:00:00  247.51\n",
       "2     2022-05-31 21:00:00  258.67\n",
       "3     2022-05-31 20:00:00  255.02\n",
       "4     2022-05-31 19:00:00  234.97\n",
       "...                   ...     ...\n",
       "17515 2020-06-01 04:00:00    4.56\n",
       "17516 2020-06-01 03:00:00    4.54\n",
       "17517 2020-06-01 02:00:00    4.16\n",
       "17518 2020-06-01 01:00:00    4.54\n",
       "17519 2020-06-01 00:00:00    3.88\n",
       "\n",
       "[17520 rows x 2 columns]"
      ]
     },
     "execution_count": 249,
     "metadata": {},
     "output_type": "execute_result"
    }
   ],
   "source": [
    "df_nordpool = pd.read_hdf('data/h5/electricity_prices_2020-2022.h5')\n",
    "df_nordpool['datetime'] = pd.to_datetime(df_nordpool['datetime'])\n",
    "df_nordpool"
   ]
  },
  {
   "cell_type": "code",
   "execution_count": 250,
   "metadata": {},
   "outputs": [
    {
     "data": {
      "text/html": [
       "<div>\n",
       "<style scoped>\n",
       "    .dataframe tbody tr th:only-of-type {\n",
       "        vertical-align: middle;\n",
       "    }\n",
       "\n",
       "    .dataframe tbody tr th {\n",
       "        vertical-align: top;\n",
       "    }\n",
       "\n",
       "    .dataframe thead th {\n",
       "        text-align: right;\n",
       "    }\n",
       "</style>\n",
       "<table border=\"1\" class=\"dataframe\">\n",
       "  <thead>\n",
       "    <tr style=\"text-align: right;\">\n",
       "      <th></th>\n",
       "      <th>OBJ_NUMERIS</th>\n",
       "      <th>month</th>\n",
       "      <th>P+</th>\n",
       "    </tr>\n",
       "  </thead>\n",
       "  <tbody>\n",
       "    <tr>\n",
       "      <th>0</th>\n",
       "      <td>37082</td>\n",
       "      <td>2020-06</td>\n",
       "      <td>227.773</td>\n",
       "    </tr>\n",
       "    <tr>\n",
       "      <th>1</th>\n",
       "      <td>37082</td>\n",
       "      <td>2020-07</td>\n",
       "      <td>257.797</td>\n",
       "    </tr>\n",
       "    <tr>\n",
       "      <th>2</th>\n",
       "      <td>37082</td>\n",
       "      <td>2020-08</td>\n",
       "      <td>259.931</td>\n",
       "    </tr>\n",
       "    <tr>\n",
       "      <th>3</th>\n",
       "      <td>37082</td>\n",
       "      <td>2020-09</td>\n",
       "      <td>297.619</td>\n",
       "    </tr>\n",
       "    <tr>\n",
       "      <th>4</th>\n",
       "      <td>37082</td>\n",
       "      <td>2020-10</td>\n",
       "      <td>340.508</td>\n",
       "    </tr>\n",
       "    <tr>\n",
       "      <th>...</th>\n",
       "      <td>...</td>\n",
       "      <td>...</td>\n",
       "      <td>...</td>\n",
       "    </tr>\n",
       "    <tr>\n",
       "      <th>1699</th>\n",
       "      <td>802602</td>\n",
       "      <td>2022-01</td>\n",
       "      <td>270.754</td>\n",
       "    </tr>\n",
       "    <tr>\n",
       "      <th>1700</th>\n",
       "      <td>802602</td>\n",
       "      <td>2022-02</td>\n",
       "      <td>248.854</td>\n",
       "    </tr>\n",
       "    <tr>\n",
       "      <th>1701</th>\n",
       "      <td>802602</td>\n",
       "      <td>2022-03</td>\n",
       "      <td>261.863</td>\n",
       "    </tr>\n",
       "    <tr>\n",
       "      <th>1702</th>\n",
       "      <td>802602</td>\n",
       "      <td>2022-04</td>\n",
       "      <td>264.816</td>\n",
       "    </tr>\n",
       "    <tr>\n",
       "      <th>1703</th>\n",
       "      <td>802602</td>\n",
       "      <td>2022-05</td>\n",
       "      <td>275.730</td>\n",
       "    </tr>\n",
       "  </tbody>\n",
       "</table>\n",
       "<p>1704 rows × 3 columns</p>\n",
       "</div>"
      ],
      "text/plain": [
       "      OBJ_NUMERIS    month       P+\n",
       "0           37082  2020-06  227.773\n",
       "1           37082  2020-07  257.797\n",
       "2           37082  2020-08  259.931\n",
       "3           37082  2020-09  297.619\n",
       "4           37082  2020-10  340.508\n",
       "...           ...      ...      ...\n",
       "1699       802602  2022-01  270.754\n",
       "1700       802602  2022-02  248.854\n",
       "1701       802602  2022-03  261.863\n",
       "1702       802602  2022-04  264.816\n",
       "1703       802602  2022-05  275.730\n",
       "\n",
       "[1704 rows x 3 columns]"
      ]
     },
     "execution_count": 250,
     "metadata": {},
     "output_type": "execute_result"
    }
   ],
   "source": [
    "df['month'] = df['PL_T'].dt.to_period('M')\n",
    "\n",
    "# Group by apartment and month, sum up electricity consumption\n",
    "monthly_consumption = df.groupby(['OBJ_NUMERIS', 'month'])['P+'].sum().reset_index()\n",
    "monthly_consumption"
   ]
  },
  {
   "cell_type": "code",
   "execution_count": 251,
   "metadata": {},
   "outputs": [
    {
     "data": {
      "text/html": [
       "<div>\n",
       "<style scoped>\n",
       "    .dataframe tbody tr th:only-of-type {\n",
       "        vertical-align: middle;\n",
       "    }\n",
       "\n",
       "    .dataframe tbody tr th {\n",
       "        vertical-align: top;\n",
       "    }\n",
       "\n",
       "    .dataframe thead th {\n",
       "        text-align: right;\n",
       "    }\n",
       "</style>\n",
       "<table border=\"1\" class=\"dataframe\">\n",
       "  <thead>\n",
       "    <tr style=\"text-align: right;\">\n",
       "      <th></th>\n",
       "      <th>TINKLAS</th>\n",
       "      <th>OBT_PAVADINIMAS</th>\n",
       "      <th>OBJ_GV_TIPAS</th>\n",
       "      <th>OBJ_NUMERIS</th>\n",
       "      <th>P+</th>\n",
       "      <th>PL_T</th>\n",
       "      <th>P-</th>\n",
       "      <th>month</th>\n",
       "      <th>datetime</th>\n",
       "      <th>price</th>\n",
       "    </tr>\n",
       "  </thead>\n",
       "  <tbody>\n",
       "    <tr>\n",
       "      <th>0</th>\n",
       "      <td>Alytaus regiono tinklas</td>\n",
       "      <td>Butas</td>\n",
       "      <td>Ne GV</td>\n",
       "      <td>37502</td>\n",
       "      <td>0.0500</td>\n",
       "      <td>2020-06-30 00:00:00</td>\n",
       "      <td>0.0</td>\n",
       "      <td>2020-06</td>\n",
       "      <td>2020-06-30 00:00:00</td>\n",
       "      <td>22.82</td>\n",
       "    </tr>\n",
       "    <tr>\n",
       "      <th>1</th>\n",
       "      <td>Vilniaus regiono tinklas</td>\n",
       "      <td>Butas</td>\n",
       "      <td>Ne GV</td>\n",
       "      <td>600022</td>\n",
       "      <td>0.0230</td>\n",
       "      <td>2020-06-30 00:00:00</td>\n",
       "      <td>0.0</td>\n",
       "      <td>2020-06</td>\n",
       "      <td>2020-06-30 00:00:00</td>\n",
       "      <td>22.82</td>\n",
       "    </tr>\n",
       "    <tr>\n",
       "      <th>2</th>\n",
       "      <td>Kauno regiono tinklas</td>\n",
       "      <td>Butas</td>\n",
       "      <td>N</td>\n",
       "      <td>197974</td>\n",
       "      <td>0.1058</td>\n",
       "      <td>2020-06-30 00:00:00</td>\n",
       "      <td>0.0</td>\n",
       "      <td>2020-06</td>\n",
       "      <td>2020-06-30 00:00:00</td>\n",
       "      <td>22.82</td>\n",
       "    </tr>\n",
       "    <tr>\n",
       "      <th>3</th>\n",
       "      <td>Vilniaus regiono tinklas</td>\n",
       "      <td>Butas</td>\n",
       "      <td>Ne GV</td>\n",
       "      <td>535458</td>\n",
       "      <td>0.0400</td>\n",
       "      <td>2020-06-30 00:00:00</td>\n",
       "      <td>0.0</td>\n",
       "      <td>2020-06</td>\n",
       "      <td>2020-06-30 00:00:00</td>\n",
       "      <td>22.82</td>\n",
       "    </tr>\n",
       "    <tr>\n",
       "      <th>4</th>\n",
       "      <td>Kauno regiono tinklas</td>\n",
       "      <td>Butas</td>\n",
       "      <td>Ne GV</td>\n",
       "      <td>193160</td>\n",
       "      <td>0.1340</td>\n",
       "      <td>2020-06-30 00:00:00</td>\n",
       "      <td>0.0</td>\n",
       "      <td>2020-06</td>\n",
       "      <td>2020-06-30 00:00:00</td>\n",
       "      <td>22.82</td>\n",
       "    </tr>\n",
       "    <tr>\n",
       "      <th>...</th>\n",
       "      <td>...</td>\n",
       "      <td>...</td>\n",
       "      <td>...</td>\n",
       "      <td>...</td>\n",
       "      <td>...</td>\n",
       "      <td>...</td>\n",
       "      <td>...</td>\n",
       "      <td>...</td>\n",
       "      <td>...</td>\n",
       "      <td>...</td>\n",
       "    </tr>\n",
       "    <tr>\n",
       "      <th>1243915</th>\n",
       "      <td>Vilniaus regiono tinklas</td>\n",
       "      <td>Butas</td>\n",
       "      <td>Ne GV</td>\n",
       "      <td>578418</td>\n",
       "      <td>0.1070</td>\n",
       "      <td>2022-05-01 01:00:00</td>\n",
       "      <td>0.0</td>\n",
       "      <td>2022-05</td>\n",
       "      <td>2022-05-01 01:00:00</td>\n",
       "      <td>130.57</td>\n",
       "    </tr>\n",
       "    <tr>\n",
       "      <th>1243916</th>\n",
       "      <td>Vilniaus regiono tinklas</td>\n",
       "      <td>Butas</td>\n",
       "      <td>Ne GV</td>\n",
       "      <td>585738</td>\n",
       "      <td>0.0260</td>\n",
       "      <td>2022-05-01 01:00:00</td>\n",
       "      <td>0.0</td>\n",
       "      <td>2022-05</td>\n",
       "      <td>2022-05-01 01:00:00</td>\n",
       "      <td>130.57</td>\n",
       "    </tr>\n",
       "    <tr>\n",
       "      <th>1243917</th>\n",
       "      <td>Vilniaus regiono tinklas</td>\n",
       "      <td>Butas</td>\n",
       "      <td>Ne GV</td>\n",
       "      <td>578178</td>\n",
       "      <td>0.0940</td>\n",
       "      <td>2022-05-01 01:00:00</td>\n",
       "      <td>0.0</td>\n",
       "      <td>2022-05</td>\n",
       "      <td>2022-05-01 01:00:00</td>\n",
       "      <td>130.57</td>\n",
       "    </tr>\n",
       "    <tr>\n",
       "      <th>1243918</th>\n",
       "      <td>Vilniaus regiono tinklas</td>\n",
       "      <td>Butas</td>\n",
       "      <td>Ne GV</td>\n",
       "      <td>575298</td>\n",
       "      <td>0.0380</td>\n",
       "      <td>2022-05-01 01:00:00</td>\n",
       "      <td>0.0</td>\n",
       "      <td>2022-05</td>\n",
       "      <td>2022-05-01 01:00:00</td>\n",
       "      <td>130.57</td>\n",
       "    </tr>\n",
       "    <tr>\n",
       "      <th>1243919</th>\n",
       "      <td>Vilniaus regiono tinklas</td>\n",
       "      <td>Butas</td>\n",
       "      <td>Ne GV</td>\n",
       "      <td>573378</td>\n",
       "      <td>0.0290</td>\n",
       "      <td>2022-05-01 01:00:00</td>\n",
       "      <td>0.0</td>\n",
       "      <td>2022-05</td>\n",
       "      <td>2022-05-01 01:00:00</td>\n",
       "      <td>130.57</td>\n",
       "    </tr>\n",
       "  </tbody>\n",
       "</table>\n",
       "<p>1243920 rows × 10 columns</p>\n",
       "</div>"
      ],
      "text/plain": [
       "                          TINKLAS OBT_PAVADINIMAS OBJ_GV_TIPAS  OBJ_NUMERIS  \\\n",
       "0         Alytaus regiono tinklas           Butas        Ne GV        37502   \n",
       "1        Vilniaus regiono tinklas           Butas        Ne GV       600022   \n",
       "2           Kauno regiono tinklas           Butas            N       197974   \n",
       "3        Vilniaus regiono tinklas           Butas        Ne GV       535458   \n",
       "4           Kauno regiono tinklas           Butas        Ne GV       193160   \n",
       "...                           ...             ...          ...          ...   \n",
       "1243915  Vilniaus regiono tinklas           Butas        Ne GV       578418   \n",
       "1243916  Vilniaus regiono tinklas           Butas        Ne GV       585738   \n",
       "1243917  Vilniaus regiono tinklas           Butas        Ne GV       578178   \n",
       "1243918  Vilniaus regiono tinklas           Butas        Ne GV       575298   \n",
       "1243919  Vilniaus regiono tinklas           Butas        Ne GV       573378   \n",
       "\n",
       "             P+                PL_T   P-    month            datetime   price  \n",
       "0        0.0500 2020-06-30 00:00:00  0.0  2020-06 2020-06-30 00:00:00   22.82  \n",
       "1        0.0230 2020-06-30 00:00:00  0.0  2020-06 2020-06-30 00:00:00   22.82  \n",
       "2        0.1058 2020-06-30 00:00:00  0.0  2020-06 2020-06-30 00:00:00   22.82  \n",
       "3        0.0400 2020-06-30 00:00:00  0.0  2020-06 2020-06-30 00:00:00   22.82  \n",
       "4        0.1340 2020-06-30 00:00:00  0.0  2020-06 2020-06-30 00:00:00   22.82  \n",
       "...         ...                 ...  ...      ...                 ...     ...  \n",
       "1243915  0.1070 2022-05-01 01:00:00  0.0  2022-05 2022-05-01 01:00:00  130.57  \n",
       "1243916  0.0260 2022-05-01 01:00:00  0.0  2022-05 2022-05-01 01:00:00  130.57  \n",
       "1243917  0.0940 2022-05-01 01:00:00  0.0  2022-05 2022-05-01 01:00:00  130.57  \n",
       "1243918  0.0380 2022-05-01 01:00:00  0.0  2022-05 2022-05-01 01:00:00  130.57  \n",
       "1243919  0.0290 2022-05-01 01:00:00  0.0  2022-05 2022-05-01 01:00:00  130.57  \n",
       "\n",
       "[1243920 rows x 10 columns]"
      ]
     },
     "execution_count": 251,
     "metadata": {},
     "output_type": "execute_result"
    }
   ],
   "source": [
    "# Merge consumtion and Nordpool DataFrames\n",
    "df_merged = df.merge(df_nordpool, how='inner', left_on='PL_T', right_on='datetime')\n",
    "df_merged"
   ]
  },
  {
   "cell_type": "markdown",
   "metadata": {},
   "source": [
    "##### Plan (Minimalus) - fixed fee + 0.22 EUR/kWh"
   ]
  },
  {
   "cell_type": "code",
   "execution_count": 252,
   "metadata": {},
   "outputs": [],
   "source": [
    "df_minimalus = df_merged.groupby(['month', 'OBJ_NUMERIS'])['P+'].sum().reset_index()\n",
    "\n",
    "# Minimalus plan cost calculation\n",
    "df_minimalus['Minimalus'] = 1.00 + 0.22 * df_minimalus['P+']"
   ]
  },
  {
   "cell_type": "markdown",
   "metadata": {},
   "source": [
    "##### Plan (Standartinis) - higher fixed fee + 0.20 EUR/kWh"
   ]
  },
  {
   "cell_type": "code",
   "execution_count": 253,
   "metadata": {},
   "outputs": [],
   "source": [
    "df_standartinis = df_merged.groupby(['month', 'OBJ_NUMERIS'])['P+'].sum().reset_index()\n",
    "\n",
    "# Standartinis plan cost calculation\n",
    "df_standartinis['Standartinis'] = 2.00 + 0.20 * df_standartinis['P+']"
   ]
  },
  {
   "cell_type": "markdown",
   "metadata": {},
   "source": [
    "##### Plan (Lankstus) - fixed fee + 0.08 EUR/kWh + NordPool hourly price"
   ]
  },
  {
   "cell_type": "code",
   "execution_count": 254,
   "metadata": {},
   "outputs": [],
   "source": [
    "# Calculate hourly costs\n",
    "df_merged['Lankstus_Hourly_Cost'] = df_merged['P+'] * (0.08 + df_merged['price'] / 1000)  # Convert MWh to kWh\n",
    "\n",
    "\n",
    "df_lankstus = df_merged.groupby(['month', 'OBJ_NUMERIS'])['Lankstus_Hourly_Cost'].sum().reset_index()\n",
    "\n",
    "# Add the fixed monthly fee\n",
    "df_lankstus['Lankstus'] = 3.00 + df_lankstus['Lankstus_Hourly_Cost']\n"
   ]
  },
  {
   "cell_type": "code",
   "execution_count": 255,
   "metadata": {},
   "outputs": [
    {
     "data": {
      "text/html": [
       "<div>\n",
       "<style scoped>\n",
       "    .dataframe tbody tr th:only-of-type {\n",
       "        vertical-align: middle;\n",
       "    }\n",
       "\n",
       "    .dataframe tbody tr th {\n",
       "        vertical-align: top;\n",
       "    }\n",
       "\n",
       "    .dataframe thead th {\n",
       "        text-align: right;\n",
       "    }\n",
       "</style>\n",
       "<table border=\"1\" class=\"dataframe\">\n",
       "  <thead>\n",
       "    <tr style=\"text-align: right;\">\n",
       "      <th></th>\n",
       "      <th>month</th>\n",
       "      <th>OBJ_NUMERIS</th>\n",
       "      <th>Minimalus</th>\n",
       "      <th>Standartinis</th>\n",
       "      <th>Lankstus</th>\n",
       "      <th>Cheapest Plan</th>\n",
       "    </tr>\n",
       "  </thead>\n",
       "  <tbody>\n",
       "    <tr>\n",
       "      <th>0</th>\n",
       "      <td>2020-06</td>\n",
       "      <td>37082</td>\n",
       "      <td>51.11006</td>\n",
       "      <td>47.5546</td>\n",
       "      <td>30.101790</td>\n",
       "      <td>Lankstus</td>\n",
       "    </tr>\n",
       "    <tr>\n",
       "      <th>1</th>\n",
       "      <td>2020-06</td>\n",
       "      <td>37142</td>\n",
       "      <td>19.94222</td>\n",
       "      <td>19.2202</td>\n",
       "      <td>13.610828</td>\n",
       "      <td>Lankstus</td>\n",
       "    </tr>\n",
       "    <tr>\n",
       "      <th>2</th>\n",
       "      <td>2020-06</td>\n",
       "      <td>37502</td>\n",
       "      <td>6.31696</td>\n",
       "      <td>6.8336</td>\n",
       "      <td>5.881785</td>\n",
       "      <td>Lankstus</td>\n",
       "    </tr>\n",
       "    <tr>\n",
       "      <th>3</th>\n",
       "      <td>2020-06</td>\n",
       "      <td>40202</td>\n",
       "      <td>23.48928</td>\n",
       "      <td>22.4448</td>\n",
       "      <td>15.713195</td>\n",
       "      <td>Lankstus</td>\n",
       "    </tr>\n",
       "    <tr>\n",
       "      <th>4</th>\n",
       "      <td>2020-06</td>\n",
       "      <td>44282</td>\n",
       "      <td>12.06732</td>\n",
       "      <td>12.0612</td>\n",
       "      <td>8.872896</td>\n",
       "      <td>Lankstus</td>\n",
       "    </tr>\n",
       "    <tr>\n",
       "      <th>...</th>\n",
       "      <td>...</td>\n",
       "      <td>...</td>\n",
       "      <td>...</td>\n",
       "      <td>...</td>\n",
       "      <td>...</td>\n",
       "      <td>...</td>\n",
       "    </tr>\n",
       "    <tr>\n",
       "      <th>1699</th>\n",
       "      <td>2022-05</td>\n",
       "      <td>653246</td>\n",
       "      <td>29.42048</td>\n",
       "      <td>27.8368</td>\n",
       "      <td>34.920854</td>\n",
       "      <td>Standartinis</td>\n",
       "    </tr>\n",
       "    <tr>\n",
       "      <th>1700</th>\n",
       "      <td>2022-05</td>\n",
       "      <td>739422</td>\n",
       "      <td>60.65773</td>\n",
       "      <td>56.2343</td>\n",
       "      <td>72.873259</td>\n",
       "      <td>Standartinis</td>\n",
       "    </tr>\n",
       "    <tr>\n",
       "      <th>1701</th>\n",
       "      <td>2022-05</td>\n",
       "      <td>771822</td>\n",
       "      <td>21.89340</td>\n",
       "      <td>20.9940</td>\n",
       "      <td>27.052550</td>\n",
       "      <td>Standartinis</td>\n",
       "    </tr>\n",
       "    <tr>\n",
       "      <th>1702</th>\n",
       "      <td>2022-05</td>\n",
       "      <td>802542</td>\n",
       "      <td>90.47246</td>\n",
       "      <td>83.3386</td>\n",
       "      <td>113.804783</td>\n",
       "      <td>Standartinis</td>\n",
       "    </tr>\n",
       "    <tr>\n",
       "      <th>1703</th>\n",
       "      <td>2022-05</td>\n",
       "      <td>802602</td>\n",
       "      <td>61.66060</td>\n",
       "      <td>57.1460</td>\n",
       "      <td>72.403637</td>\n",
       "      <td>Standartinis</td>\n",
       "    </tr>\n",
       "  </tbody>\n",
       "</table>\n",
       "<p>1704 rows × 6 columns</p>\n",
       "</div>"
      ],
      "text/plain": [
       "        month  OBJ_NUMERIS  Minimalus  Standartinis    Lankstus Cheapest Plan\n",
       "0     2020-06        37082   51.11006       47.5546   30.101790      Lankstus\n",
       "1     2020-06        37142   19.94222       19.2202   13.610828      Lankstus\n",
       "2     2020-06        37502    6.31696        6.8336    5.881785      Lankstus\n",
       "3     2020-06        40202   23.48928       22.4448   15.713195      Lankstus\n",
       "4     2020-06        44282   12.06732       12.0612    8.872896      Lankstus\n",
       "...       ...          ...        ...           ...         ...           ...\n",
       "1699  2022-05       653246   29.42048       27.8368   34.920854  Standartinis\n",
       "1700  2022-05       739422   60.65773       56.2343   72.873259  Standartinis\n",
       "1701  2022-05       771822   21.89340       20.9940   27.052550  Standartinis\n",
       "1702  2022-05       802542   90.47246       83.3386  113.804783  Standartinis\n",
       "1703  2022-05       802602   61.66060       57.1460   72.403637  Standartinis\n",
       "\n",
       "[1704 rows x 6 columns]"
      ]
     },
     "execution_count": 255,
     "metadata": {},
     "output_type": "execute_result"
    }
   ],
   "source": [
    "# Combine all plans into a single DataFrame\n",
    "combined_plans = df_minimalus[['month', 'OBJ_NUMERIS', 'Minimalus']].merge(\n",
    "    df_standartinis[['month', 'OBJ_NUMERIS', 'Standartinis']],\n",
    "    on=['month', 'OBJ_NUMERIS']\n",
    ").merge(\n",
    "    df_lankstus[['month', 'OBJ_NUMERIS', 'Lankstus']],\n",
    "    on=['month', 'OBJ_NUMERIS']\n",
    ")\n",
    "\n",
    "# Identify the cheapest plan for each apartment and month\n",
    "combined_plans['Cheapest Plan'] = combined_plans[['Minimalus', 'Standartinis', 'Lankstus']].idxmin(axis=1)\n",
    "\n",
    "combined_plans\n"
   ]
  },
  {
   "cell_type": "code",
   "execution_count": 256,
   "metadata": {},
   "outputs": [
    {
     "name": "stderr",
     "output_type": "stream",
     "text": [
      "C:\\Users\\baubl\\AppData\\Local\\Temp\\ipykernel_39008\\2926729743.py:5: FutureWarning:\n",
      "\n",
      "Downcasting behavior in `replace` is deprecated and will be removed in a future version. To retain the old behavior, explicitly call `result.infer_objects(copy=False)`. To opt-in to the future behavior, set `pd.set_option('future.no_silent_downcasting', True)`\n",
      "\n"
     ]
    },
    {
     "data": {
      "application/vnd.plotly.v1+json": {
       "config": {
        "plotlyServerURL": "https://plot.ly"
       },
       "data": [
        {
         "colorscale": [
          [
           0,
           "#440154"
          ],
          [
           0.1111111111111111,
           "#482878"
          ],
          [
           0.2222222222222222,
           "#3e4989"
          ],
          [
           0.3333333333333333,
           "#31688e"
          ],
          [
           0.4444444444444444,
           "#26828e"
          ],
          [
           0.5555555555555556,
           "#1f9e89"
          ],
          [
           0.6666666666666666,
           "#35b779"
          ],
          [
           0.7777777777777778,
           "#6ece58"
          ],
          [
           0.8888888888888888,
           "#b5de2b"
          ],
          [
           1,
           "#fde725"
          ]
         ],
         "showscale": false,
         "type": "heatmap",
         "x": [
          "2020-06",
          "2020-07",
          "2020-08",
          "2020-09",
          "2020-10",
          "2020-11",
          "2020-12",
          "2021-01",
          "2021-02",
          "2021-03",
          "2021-04",
          "2021-05",
          "2021-06",
          "2021-07",
          "2021-08",
          "2021-09",
          "2021-10",
          "2021-11",
          "2021-12",
          "2022-01",
          "2022-02",
          "2022-03",
          "2022-04",
          "2022-05"
         ],
         "xgap": 2,
         "y": [
          37082,
          37142,
          37502,
          40202,
          44282,
          46502,
          46622,
          56582,
          187820,
          193160,
          197974,
          200134,
          441664,
          478752,
          479352,
          494052,
          534738,
          535458,
          536298,
          538818,
          539238,
          552438,
          566838,
          567918,
          569298,
          569958,
          573018,
          573378,
          575298,
          576018,
          578178,
          578418,
          584118,
          585738,
          588378,
          596362,
          596962,
          597382,
          597562,
          600022,
          600682,
          601282,
          603142,
          603922,
          604402,
          609742,
          611302,
          619102,
          619582,
          620362,
          620602,
          620662,
          621682,
          627322,
          628462,
          628582,
          632962,
          633022,
          638722,
          639022,
          640642,
          643702,
          644302,
          646582,
          646762,
          647002,
          653246,
          739422,
          771822,
          802542,
          802602
         ],
         "ygap": 2,
         "z": [
          [
           3,
           3,
           3,
           3,
           3,
           3,
           3,
           3,
           3,
           3,
           3,
           3,
           3,
           3,
           3,
           2,
           2,
           2,
           2,
           2,
           2,
           2,
           2,
           2
          ],
          [
           3,
           3,
           3,
           3,
           3,
           3,
           3,
           3,
           3,
           3,
           3,
           3,
           3,
           3,
           3,
           2,
           2,
           2,
           2,
           2,
           2,
           2,
           2,
           2
          ],
          [
           3,
           3,
           3,
           3,
           3,
           3,
           3,
           3,
           3,
           3,
           3,
           3,
           3,
           3,
           3,
           2,
           2,
           2,
           2,
           2,
           2,
           2,
           2,
           2
          ],
          [
           3,
           3,
           3,
           3,
           3,
           3,
           3,
           3,
           3,
           3,
           3,
           3,
           3,
           3,
           3,
           2,
           2,
           2,
           2,
           2,
           2,
           2,
           2,
           2
          ],
          [
           3,
           3,
           3,
           3,
           3,
           3,
           3,
           3,
           3,
           3,
           3,
           3,
           3,
           1,
           1,
           1,
           1,
           1,
           1,
           1,
           1,
           1,
           1,
           1
          ],
          [
           3,
           3,
           3,
           3,
           3,
           3,
           3,
           3,
           3,
           3,
           3,
           3,
           3,
           3,
           3,
           2,
           2,
           2,
           2,
           2,
           2,
           2,
           2,
           2
          ],
          [
           3,
           3,
           3,
           3,
           3,
           3,
           3,
           3,
           3,
           3,
           3,
           3,
           3,
           3,
           3,
           2,
           2,
           2,
           2,
           2,
           2,
           2,
           2,
           2
          ],
          [
           3,
           3,
           3,
           3,
           3,
           3,
           3,
           3,
           3,
           3,
           3,
           3,
           3,
           3,
           3,
           2,
           2,
           2,
           2,
           2,
           2,
           2,
           2,
           2
          ],
          [
           3,
           3,
           3,
           3,
           3,
           3,
           3,
           3,
           3,
           3,
           3,
           3,
           3,
           3,
           3,
           1,
           1,
           1,
           1,
           2,
           1,
           1,
           1,
           1
          ],
          [
           3,
           3,
           3,
           3,
           3,
           3,
           3,
           3,
           3,
           3,
           3,
           3,
           3,
           3,
           3,
           2,
           3,
           2,
           2,
           2,
           3,
           2,
           2,
           2
          ],
          [
           3,
           3,
           3,
           3,
           3,
           3,
           3,
           3,
           3,
           3,
           3,
           3,
           3,
           3,
           3,
           2,
           2,
           2,
           2,
           2,
           3,
           2,
           2,
           2
          ],
          [
           3,
           3,
           3,
           3,
           3,
           3,
           3,
           3,
           3,
           3,
           3,
           3,
           3,
           3,
           3,
           2,
           2,
           2,
           2,
           2,
           2,
           2,
           2,
           2
          ],
          [
           1,
           1,
           1,
           1,
           1,
           1,
           1,
           1,
           1,
           1,
           1,
           1,
           3,
           1,
           1,
           1,
           1,
           1,
           1,
           1,
           1,
           1,
           1,
           1
          ],
          [
           3,
           3,
           3,
           3,
           3,
           3,
           3,
           3,
           3,
           3,
           3,
           3,
           3,
           3,
           3,
           2,
           2,
           2,
           2,
           2,
           2,
           2,
           2,
           2
          ],
          [
           3,
           3,
           3,
           3,
           3,
           3,
           3,
           3,
           3,
           3,
           3,
           3,
           3,
           3,
           3,
           2,
           2,
           2,
           2,
           2,
           3,
           2,
           2,
           2
          ],
          [
           3,
           3,
           3,
           3,
           3,
           3,
           3,
           3,
           3,
           3,
           3,
           3,
           3,
           3,
           3,
           2,
           2,
           2,
           2,
           2,
           2,
           2,
           2,
           2
          ],
          [
           3,
           3,
           3,
           3,
           3,
           3,
           3,
           3,
           3,
           3,
           3,
           3,
           3,
           3,
           3,
           2,
           3,
           2,
           2,
           2,
           3,
           2,
           2,
           2
          ],
          [
           3,
           3,
           3,
           3,
           3,
           3,
           3,
           3,
           3,
           3,
           3,
           3,
           3,
           1,
           1,
           1,
           1,
           1,
           2,
           2,
           3,
           2,
           1,
           1
          ],
          [
           3,
           3,
           3,
           3,
           3,
           3,
           3,
           3,
           3,
           3,
           3,
           3,
           1,
           1,
           1,
           1,
           2,
           1,
           2,
           2,
           2,
           2,
           2,
           1
          ],
          [
           3,
           3,
           3,
           3,
           3,
           3,
           3,
           3,
           3,
           3,
           3,
           3,
           3,
           3,
           3,
           2,
           2,
           2,
           2,
           2,
           3,
           2,
           2,
           2
          ],
          [
           3,
           3,
           3,
           3,
           3,
           3,
           3,
           3,
           3,
           3,
           3,
           3,
           3,
           3,
           3,
           1,
           1,
           1,
           2,
           1,
           3,
           2,
           3,
           2
          ],
          [
           3,
           3,
           3,
           3,
           3,
           3,
           3,
           3,
           3,
           3,
           3,
           3,
           3,
           3,
           3,
           2,
           2,
           2,
           2,
           2,
           3,
           2,
           2,
           2
          ],
          [
           3,
           3,
           3,
           3,
           3,
           3,
           3,
           3,
           3,
           3,
           3,
           3,
           3,
           3,
           3,
           2,
           2,
           2,
           2,
           2,
           2,
           1,
           1,
           1
          ],
          [
           3,
           3,
           3,
           3,
           3,
           3,
           3,
           3,
           3,
           3,
           3,
           3,
           3,
           3,
           3,
           2,
           3,
           2,
           2,
           2,
           3,
           2,
           3,
           2
          ],
          [
           1,
           1,
           1,
           1,
           1,
           1,
           1,
           1,
           1,
           1,
           1,
           1,
           1,
           1,
           1,
           1,
           1,
           1,
           1,
           1,
           1,
           1,
           1,
           1
          ],
          [
           3,
           3,
           3,
           3,
           3,
           3,
           3,
           3,
           3,
           3,
           3,
           3,
           3,
           3,
           3,
           2,
           2,
           2,
           2,
           2,
           2,
           2,
           3,
           2
          ],
          [
           3,
           3,
           3,
           3,
           3,
           3,
           3,
           1,
           3,
           3,
           3,
           3,
           3,
           3,
           3,
           2,
           2,
           1,
           1,
           1,
           1,
           2,
           2,
           2
          ],
          [
           3,
           3,
           3,
           3,
           3,
           3,
           3,
           3,
           3,
           3,
           3,
           3,
           3,
           3,
           3,
           2,
           2,
           2,
           2,
           2,
           3,
           2,
           3,
           2
          ],
          [
           3,
           3,
           3,
           3,
           3,
           3,
           3,
           3,
           3,
           3,
           3,
           3,
           1,
           1,
           1,
           2,
           2,
           2,
           2,
           2,
           3,
           2,
           2,
           2
          ],
          [
           3,
           3,
           3,
           3,
           3,
           3,
           3,
           3,
           3,
           3,
           3,
           3,
           3,
           3,
           1,
           2,
           3,
           2,
           2,
           2,
           3,
           2,
           2,
           2
          ],
          [
           3,
           3,
           3,
           3,
           3,
           3,
           3,
           1,
           1,
           1,
           3,
           3,
           3,
           3,
           3,
           2,
           2,
           2,
           2,
           2,
           2,
           2,
           2,
           2
          ],
          [
           3,
           3,
           3,
           3,
           3,
           3,
           3,
           3,
           3,
           3,
           3,
           3,
           3,
           3,
           3,
           2,
           2,
           2,
           2,
           2,
           3,
           2,
           2,
           2
          ],
          [
           3,
           3,
           3,
           3,
           3,
           3,
           3,
           3,
           3,
           3,
           3,
           3,
           3,
           3,
           3,
           2,
           2,
           2,
           2,
           2,
           2,
           2,
           2,
           2
          ],
          [
           3,
           3,
           3,
           3,
           3,
           3,
           3,
           3,
           3,
           3,
           3,
           3,
           3,
           3,
           1,
           1,
           1,
           1,
           1,
           1,
           1,
           1,
           1,
           1
          ],
          [
           3,
           3,
           3,
           3,
           3,
           3,
           3,
           3,
           3,
           3,
           3,
           3,
           3,
           3,
           3,
           2,
           3,
           2,
           2,
           2,
           1,
           1,
           1,
           2
          ],
          [
           3,
           3,
           3,
           3,
           3,
           3,
           3,
           3,
           3,
           3,
           3,
           3,
           3,
           3,
           3,
           2,
           2,
           2,
           2,
           2,
           2,
           2,
           2,
           2
          ],
          [
           3,
           3,
           3,
           3,
           3,
           3,
           3,
           3,
           3,
           3,
           3,
           3,
           3,
           3,
           3,
           2,
           3,
           2,
           2,
           2,
           3,
           2,
           2,
           2
          ],
          [
           3,
           3,
           3,
           3,
           3,
           3,
           3,
           3,
           3,
           3,
           3,
           3,
           3,
           3,
           3,
           2,
           2,
           2,
           2,
           2,
           2,
           2,
           2,
           2
          ],
          [
           3,
           3,
           3,
           3,
           3,
           3,
           3,
           3,
           3,
           3,
           3,
           3,
           3,
           3,
           3,
           2,
           2,
           2,
           1,
           2,
           2,
           2,
           2,
           2
          ],
          [
           3,
           3,
           3,
           3,
           3,
           3,
           3,
           3,
           3,
           3,
           3,
           3,
           3,
           3,
           3,
           2,
           2,
           2,
           1,
           1,
           1,
           2,
           2,
           1
          ],
          [
           3,
           3,
           3,
           3,
           3,
           3,
           3,
           3,
           3,
           3,
           3,
           3,
           3,
           1,
           1,
           1,
           1,
           2,
           1,
           1,
           1,
           1,
           1,
           1
          ],
          [
           3,
           3,
           3,
           3,
           3,
           3,
           3,
           1,
           1,
           1,
           3,
           3,
           3,
           3,
           3,
           2,
           2,
           2,
           2,
           2,
           2,
           2,
           2,
           2
          ],
          [
           3,
           3,
           3,
           3,
           3,
           3,
           3,
           3,
           3,
           3,
           3,
           3,
           3,
           3,
           3,
           1,
           1,
           2,
           2,
           2,
           2,
           2,
           1,
           2
          ],
          [
           3,
           3,
           3,
           3,
           3,
           3,
           3,
           3,
           3,
           3,
           3,
           3,
           3,
           3,
           3,
           2,
           3,
           2,
           2,
           2,
           3,
           2,
           2,
           2
          ],
          [
           3,
           3,
           3,
           3,
           3,
           3,
           3,
           3,
           3,
           3,
           3,
           3,
           3,
           3,
           3,
           2,
           2,
           2,
           2,
           2,
           2,
           2,
           2,
           2
          ],
          [
           3,
           3,
           3,
           3,
           3,
           3,
           3,
           3,
           3,
           3,
           3,
           3,
           3,
           3,
           3,
           2,
           2,
           2,
           2,
           2,
           3,
           2,
           2,
           2
          ],
          [
           3,
           3,
           3,
           3,
           3,
           3,
           3,
           3,
           3,
           3,
           3,
           3,
           3,
           3,
           3,
           1,
           2,
           3,
           2,
           2,
           3,
           2,
           2,
           2
          ],
          [
           3,
           3,
           3,
           3,
           3,
           3,
           3,
           3,
           3,
           3,
           3,
           3,
           3,
           3,
           3,
           2,
           2,
           2,
           2,
           2,
           3,
           2,
           2,
           2
          ],
          [
           3,
           3,
           3,
           3,
           3,
           3,
           3,
           3,
           3,
           3,
           3,
           3,
           3,
           3,
           3,
           2,
           2,
           2,
           2,
           2,
           2,
           2,
           2,
           2
          ],
          [
           3,
           3,
           3,
           3,
           3,
           3,
           3,
           3,
           3,
           3,
           3,
           3,
           3,
           3,
           3,
           2,
           3,
           2,
           2,
           2,
           3,
           2,
           2,
           2
          ],
          [
           3,
           3,
           3,
           3,
           1,
           3,
           3,
           3,
           3,
           3,
           3,
           3,
           3,
           3,
           3,
           2,
           2,
           2,
           2,
           2,
           3,
           2,
           2,
           2
          ],
          [
           3,
           3,
           3,
           3,
           3,
           3,
           3,
           3,
           3,
           3,
           3,
           3,
           3,
           3,
           3,
           2,
           3,
           2,
           2,
           2,
           3,
           1,
           2,
           2
          ],
          [
           3,
           3,
           3,
           3,
           3,
           3,
           3,
           3,
           3,
           3,
           3,
           3,
           3,
           3,
           3,
           2,
           2,
           2,
           2,
           2,
           3,
           2,
           2,
           2
          ],
          [
           1,
           1,
           1,
           1,
           1,
           1,
           3,
           1,
           1,
           1,
           1,
           3,
           3,
           3,
           3,
           2,
           2,
           2,
           2,
           2,
           3,
           2,
           2,
           2
          ],
          [
           1,
           1,
           1,
           1,
           1,
           1,
           1,
           1,
           3,
           3,
           3,
           3,
           3,
           3,
           3,
           2,
           2,
           2,
           1,
           1,
           1,
           1,
           1,
           2
          ],
          [
           3,
           3,
           3,
           1,
           1,
           3,
           3,
           3,
           3,
           3,
           3,
           3,
           3,
           3,
           3,
           2,
           2,
           2,
           2,
           2,
           2,
           2,
           2,
           2
          ],
          [
           3,
           3,
           3,
           3,
           3,
           3,
           3,
           3,
           3,
           3,
           3,
           3,
           3,
           3,
           3,
           2,
           3,
           2,
           2,
           2,
           3,
           2,
           2,
           2
          ],
          [
           3,
           3,
           3,
           3,
           3,
           3,
           3,
           3,
           3,
           3,
           3,
           3,
           3,
           3,
           3,
           2,
           2,
           2,
           2,
           2,
           3,
           2,
           2,
           2
          ],
          [
           1,
           1,
           1,
           1,
           3,
           3,
           3,
           3,
           3,
           3,
           3,
           3,
           3,
           3,
           3,
           2,
           2,
           2,
           2,
           2,
           2,
           2,
           2,
           2
          ],
          [
           1,
           1,
           1,
           1,
           1,
           1,
           1,
           1,
           1,
           1,
           3,
           3,
           3,
           3,
           3,
           2,
           2,
           2,
           2,
           2,
           2,
           2,
           2,
           2
          ],
          [
           1,
           1,
           1,
           1,
           3,
           3,
           3,
           3,
           3,
           3,
           3,
           3,
           3,
           3,
           3,
           2,
           2,
           2,
           2,
           2,
           3,
           2,
           1,
           2
          ],
          [
           1,
           1,
           3,
           3,
           3,
           3,
           3,
           3,
           3,
           3,
           3,
           3,
           3,
           3,
           3,
           2,
           2,
           2,
           2,
           2,
           3,
           2,
           2,
           2
          ],
          [
           1,
           3,
           3,
           3,
           3,
           3,
           3,
           3,
           3,
           3,
           3,
           3,
           3,
           3,
           3,
           2,
           2,
           2,
           2,
           2,
           3,
           2,
           2,
           2
          ],
          [
           3,
           3,
           3,
           3,
           3,
           3,
           3,
           3,
           3,
           3,
           3,
           3,
           3,
           3,
           3,
           2,
           2,
           2,
           2,
           2,
           2,
           2,
           2,
           2
          ],
          [
           1,
           1,
           3,
           3,
           3,
           3,
           1,
           3,
           3,
           1,
           1,
           1,
           3,
           1,
           3,
           1,
           1,
           1,
           1,
           1,
           1,
           1,
           1,
           1
          ],
          [
           1,
           1,
           3,
           3,
           3,
           3,
           3,
           3,
           3,
           3,
           3,
           3,
           3,
           3,
           3,
           2,
           3,
           2,
           2,
           2,
           3,
           2,
           2,
           2
          ],
          [
           1,
           1,
           1,
           1,
           1,
           1,
           1,
           1,
           1,
           1,
           1,
           1,
           1,
           1,
           1,
           1,
           1,
           2,
           2,
           2,
           3,
           2,
           2,
           2
          ],
          [
           3,
           3,
           3,
           3,
           3,
           3,
           3,
           3,
           3,
           3,
           3,
           3,
           3,
           3,
           3,
           2,
           2,
           2,
           2,
           2,
           3,
           2,
           2,
           2
          ],
          [
           3,
           3,
           3,
           3,
           3,
           3,
           3,
           3,
           3,
           3,
           3,
           3,
           3,
           3,
           3,
           2,
           2,
           2,
           2,
           2,
           3,
           2,
           2,
           2
          ],
          [
           3,
           3,
           3,
           3,
           3,
           3,
           3,
           3,
           3,
           3,
           3,
           3,
           3,
           3,
           3,
           2,
           2,
           2,
           2,
           2,
           2,
           2,
           2,
           2
          ],
          [
           3,
           3,
           3,
           3,
           3,
           3,
           3,
           3,
           3,
           3,
           3,
           3,
           3,
           3,
           3,
           2,
           2,
           2,
           2,
           2,
           3,
           2,
           3,
           2
          ]
         ]
        },
        {
         "marker": {
          "color": "#440154",
          "size": 10
         },
         "mode": "markers",
         "name": "Minimalus",
         "type": "scatter",
         "x": [
          null
         ],
         "y": [
          null
         ]
        },
        {
         "marker": {
          "color": "#21908d",
          "size": 10
         },
         "mode": "markers",
         "name": "Standartinis",
         "type": "scatter",
         "x": [
          null
         ],
         "y": [
          null
         ]
        },
        {
         "marker": {
          "color": "#fde725",
          "size": 10
         },
         "mode": "markers",
         "name": "Lankstus",
         "type": "scatter",
         "x": [
          null
         ],
         "y": [
          null
         ]
        }
       ],
       "layout": {
        "height": 800,
        "template": {
         "data": {
          "bar": [
           {
            "error_x": {
             "color": "#2a3f5f"
            },
            "error_y": {
             "color": "#2a3f5f"
            },
            "marker": {
             "line": {
              "color": "#E5ECF6",
              "width": 0.5
             },
             "pattern": {
              "fillmode": "overlay",
              "size": 10,
              "solidity": 0.2
             }
            },
            "type": "bar"
           }
          ],
          "barpolar": [
           {
            "marker": {
             "line": {
              "color": "#E5ECF6",
              "width": 0.5
             },
             "pattern": {
              "fillmode": "overlay",
              "size": 10,
              "solidity": 0.2
             }
            },
            "type": "barpolar"
           }
          ],
          "carpet": [
           {
            "aaxis": {
             "endlinecolor": "#2a3f5f",
             "gridcolor": "white",
             "linecolor": "white",
             "minorgridcolor": "white",
             "startlinecolor": "#2a3f5f"
            },
            "baxis": {
             "endlinecolor": "#2a3f5f",
             "gridcolor": "white",
             "linecolor": "white",
             "minorgridcolor": "white",
             "startlinecolor": "#2a3f5f"
            },
            "type": "carpet"
           }
          ],
          "choropleth": [
           {
            "colorbar": {
             "outlinewidth": 0,
             "ticks": ""
            },
            "type": "choropleth"
           }
          ],
          "contour": [
           {
            "colorbar": {
             "outlinewidth": 0,
             "ticks": ""
            },
            "colorscale": [
             [
              0,
              "#0d0887"
             ],
             [
              0.1111111111111111,
              "#46039f"
             ],
             [
              0.2222222222222222,
              "#7201a8"
             ],
             [
              0.3333333333333333,
              "#9c179e"
             ],
             [
              0.4444444444444444,
              "#bd3786"
             ],
             [
              0.5555555555555556,
              "#d8576b"
             ],
             [
              0.6666666666666666,
              "#ed7953"
             ],
             [
              0.7777777777777778,
              "#fb9f3a"
             ],
             [
              0.8888888888888888,
              "#fdca26"
             ],
             [
              1,
              "#f0f921"
             ]
            ],
            "type": "contour"
           }
          ],
          "contourcarpet": [
           {
            "colorbar": {
             "outlinewidth": 0,
             "ticks": ""
            },
            "type": "contourcarpet"
           }
          ],
          "heatmap": [
           {
            "colorbar": {
             "outlinewidth": 0,
             "ticks": ""
            },
            "colorscale": [
             [
              0,
              "#0d0887"
             ],
             [
              0.1111111111111111,
              "#46039f"
             ],
             [
              0.2222222222222222,
              "#7201a8"
             ],
             [
              0.3333333333333333,
              "#9c179e"
             ],
             [
              0.4444444444444444,
              "#bd3786"
             ],
             [
              0.5555555555555556,
              "#d8576b"
             ],
             [
              0.6666666666666666,
              "#ed7953"
             ],
             [
              0.7777777777777778,
              "#fb9f3a"
             ],
             [
              0.8888888888888888,
              "#fdca26"
             ],
             [
              1,
              "#f0f921"
             ]
            ],
            "type": "heatmap"
           }
          ],
          "heatmapgl": [
           {
            "colorbar": {
             "outlinewidth": 0,
             "ticks": ""
            },
            "colorscale": [
             [
              0,
              "#0d0887"
             ],
             [
              0.1111111111111111,
              "#46039f"
             ],
             [
              0.2222222222222222,
              "#7201a8"
             ],
             [
              0.3333333333333333,
              "#9c179e"
             ],
             [
              0.4444444444444444,
              "#bd3786"
             ],
             [
              0.5555555555555556,
              "#d8576b"
             ],
             [
              0.6666666666666666,
              "#ed7953"
             ],
             [
              0.7777777777777778,
              "#fb9f3a"
             ],
             [
              0.8888888888888888,
              "#fdca26"
             ],
             [
              1,
              "#f0f921"
             ]
            ],
            "type": "heatmapgl"
           }
          ],
          "histogram": [
           {
            "marker": {
             "pattern": {
              "fillmode": "overlay",
              "size": 10,
              "solidity": 0.2
             }
            },
            "type": "histogram"
           }
          ],
          "histogram2d": [
           {
            "colorbar": {
             "outlinewidth": 0,
             "ticks": ""
            },
            "colorscale": [
             [
              0,
              "#0d0887"
             ],
             [
              0.1111111111111111,
              "#46039f"
             ],
             [
              0.2222222222222222,
              "#7201a8"
             ],
             [
              0.3333333333333333,
              "#9c179e"
             ],
             [
              0.4444444444444444,
              "#bd3786"
             ],
             [
              0.5555555555555556,
              "#d8576b"
             ],
             [
              0.6666666666666666,
              "#ed7953"
             ],
             [
              0.7777777777777778,
              "#fb9f3a"
             ],
             [
              0.8888888888888888,
              "#fdca26"
             ],
             [
              1,
              "#f0f921"
             ]
            ],
            "type": "histogram2d"
           }
          ],
          "histogram2dcontour": [
           {
            "colorbar": {
             "outlinewidth": 0,
             "ticks": ""
            },
            "colorscale": [
             [
              0,
              "#0d0887"
             ],
             [
              0.1111111111111111,
              "#46039f"
             ],
             [
              0.2222222222222222,
              "#7201a8"
             ],
             [
              0.3333333333333333,
              "#9c179e"
             ],
             [
              0.4444444444444444,
              "#bd3786"
             ],
             [
              0.5555555555555556,
              "#d8576b"
             ],
             [
              0.6666666666666666,
              "#ed7953"
             ],
             [
              0.7777777777777778,
              "#fb9f3a"
             ],
             [
              0.8888888888888888,
              "#fdca26"
             ],
             [
              1,
              "#f0f921"
             ]
            ],
            "type": "histogram2dcontour"
           }
          ],
          "mesh3d": [
           {
            "colorbar": {
             "outlinewidth": 0,
             "ticks": ""
            },
            "type": "mesh3d"
           }
          ],
          "parcoords": [
           {
            "line": {
             "colorbar": {
              "outlinewidth": 0,
              "ticks": ""
             }
            },
            "type": "parcoords"
           }
          ],
          "pie": [
           {
            "automargin": true,
            "type": "pie"
           }
          ],
          "scatter": [
           {
            "fillpattern": {
             "fillmode": "overlay",
             "size": 10,
             "solidity": 0.2
            },
            "type": "scatter"
           }
          ],
          "scatter3d": [
           {
            "line": {
             "colorbar": {
              "outlinewidth": 0,
              "ticks": ""
             }
            },
            "marker": {
             "colorbar": {
              "outlinewidth": 0,
              "ticks": ""
             }
            },
            "type": "scatter3d"
           }
          ],
          "scattercarpet": [
           {
            "marker": {
             "colorbar": {
              "outlinewidth": 0,
              "ticks": ""
             }
            },
            "type": "scattercarpet"
           }
          ],
          "scattergeo": [
           {
            "marker": {
             "colorbar": {
              "outlinewidth": 0,
              "ticks": ""
             }
            },
            "type": "scattergeo"
           }
          ],
          "scattergl": [
           {
            "marker": {
             "colorbar": {
              "outlinewidth": 0,
              "ticks": ""
             }
            },
            "type": "scattergl"
           }
          ],
          "scattermapbox": [
           {
            "marker": {
             "colorbar": {
              "outlinewidth": 0,
              "ticks": ""
             }
            },
            "type": "scattermapbox"
           }
          ],
          "scatterpolar": [
           {
            "marker": {
             "colorbar": {
              "outlinewidth": 0,
              "ticks": ""
             }
            },
            "type": "scatterpolar"
           }
          ],
          "scatterpolargl": [
           {
            "marker": {
             "colorbar": {
              "outlinewidth": 0,
              "ticks": ""
             }
            },
            "type": "scatterpolargl"
           }
          ],
          "scatterternary": [
           {
            "marker": {
             "colorbar": {
              "outlinewidth": 0,
              "ticks": ""
             }
            },
            "type": "scatterternary"
           }
          ],
          "surface": [
           {
            "colorbar": {
             "outlinewidth": 0,
             "ticks": ""
            },
            "colorscale": [
             [
              0,
              "#0d0887"
             ],
             [
              0.1111111111111111,
              "#46039f"
             ],
             [
              0.2222222222222222,
              "#7201a8"
             ],
             [
              0.3333333333333333,
              "#9c179e"
             ],
             [
              0.4444444444444444,
              "#bd3786"
             ],
             [
              0.5555555555555556,
              "#d8576b"
             ],
             [
              0.6666666666666666,
              "#ed7953"
             ],
             [
              0.7777777777777778,
              "#fb9f3a"
             ],
             [
              0.8888888888888888,
              "#fdca26"
             ],
             [
              1,
              "#f0f921"
             ]
            ],
            "type": "surface"
           }
          ],
          "table": [
           {
            "cells": {
             "fill": {
              "color": "#EBF0F8"
             },
             "line": {
              "color": "white"
             }
            },
            "header": {
             "fill": {
              "color": "#C8D4E3"
             },
             "line": {
              "color": "white"
             }
            },
            "type": "table"
           }
          ]
         },
         "layout": {
          "annotationdefaults": {
           "arrowcolor": "#2a3f5f",
           "arrowhead": 0,
           "arrowwidth": 1
          },
          "autotypenumbers": "strict",
          "coloraxis": {
           "colorbar": {
            "outlinewidth": 0,
            "ticks": ""
           }
          },
          "colorscale": {
           "diverging": [
            [
             0,
             "#8e0152"
            ],
            [
             0.1,
             "#c51b7d"
            ],
            [
             0.2,
             "#de77ae"
            ],
            [
             0.3,
             "#f1b6da"
            ],
            [
             0.4,
             "#fde0ef"
            ],
            [
             0.5,
             "#f7f7f7"
            ],
            [
             0.6,
             "#e6f5d0"
            ],
            [
             0.7,
             "#b8e186"
            ],
            [
             0.8,
             "#7fbc41"
            ],
            [
             0.9,
             "#4d9221"
            ],
            [
             1,
             "#276419"
            ]
           ],
           "sequential": [
            [
             0,
             "#0d0887"
            ],
            [
             0.1111111111111111,
             "#46039f"
            ],
            [
             0.2222222222222222,
             "#7201a8"
            ],
            [
             0.3333333333333333,
             "#9c179e"
            ],
            [
             0.4444444444444444,
             "#bd3786"
            ],
            [
             0.5555555555555556,
             "#d8576b"
            ],
            [
             0.6666666666666666,
             "#ed7953"
            ],
            [
             0.7777777777777778,
             "#fb9f3a"
            ],
            [
             0.8888888888888888,
             "#fdca26"
            ],
            [
             1,
             "#f0f921"
            ]
           ],
           "sequentialminus": [
            [
             0,
             "#0d0887"
            ],
            [
             0.1111111111111111,
             "#46039f"
            ],
            [
             0.2222222222222222,
             "#7201a8"
            ],
            [
             0.3333333333333333,
             "#9c179e"
            ],
            [
             0.4444444444444444,
             "#bd3786"
            ],
            [
             0.5555555555555556,
             "#d8576b"
            ],
            [
             0.6666666666666666,
             "#ed7953"
            ],
            [
             0.7777777777777778,
             "#fb9f3a"
            ],
            [
             0.8888888888888888,
             "#fdca26"
            ],
            [
             1,
             "#f0f921"
            ]
           ]
          },
          "colorway": [
           "#636efa",
           "#EF553B",
           "#00cc96",
           "#ab63fa",
           "#FFA15A",
           "#19d3f3",
           "#FF6692",
           "#B6E880",
           "#FF97FF",
           "#FECB52"
          ],
          "font": {
           "color": "#2a3f5f"
          },
          "geo": {
           "bgcolor": "white",
           "lakecolor": "white",
           "landcolor": "#E5ECF6",
           "showlakes": true,
           "showland": true,
           "subunitcolor": "white"
          },
          "hoverlabel": {
           "align": "left"
          },
          "hovermode": "closest",
          "mapbox": {
           "style": "light"
          },
          "paper_bgcolor": "white",
          "plot_bgcolor": "#E5ECF6",
          "polar": {
           "angularaxis": {
            "gridcolor": "white",
            "linecolor": "white",
            "ticks": ""
           },
           "bgcolor": "#E5ECF6",
           "radialaxis": {
            "gridcolor": "white",
            "linecolor": "white",
            "ticks": ""
           }
          },
          "scene": {
           "xaxis": {
            "backgroundcolor": "#E5ECF6",
            "gridcolor": "white",
            "gridwidth": 2,
            "linecolor": "white",
            "showbackground": true,
            "ticks": "",
            "zerolinecolor": "white"
           },
           "yaxis": {
            "backgroundcolor": "#E5ECF6",
            "gridcolor": "white",
            "gridwidth": 2,
            "linecolor": "white",
            "showbackground": true,
            "ticks": "",
            "zerolinecolor": "white"
           },
           "zaxis": {
            "backgroundcolor": "#E5ECF6",
            "gridcolor": "white",
            "gridwidth": 2,
            "linecolor": "white",
            "showbackground": true,
            "ticks": "",
            "zerolinecolor": "white"
           }
          },
          "shapedefaults": {
           "line": {
            "color": "#2a3f5f"
           }
          },
          "ternary": {
           "aaxis": {
            "gridcolor": "white",
            "linecolor": "white",
            "ticks": ""
           },
           "baxis": {
            "gridcolor": "white",
            "linecolor": "white",
            "ticks": ""
           },
           "bgcolor": "#E5ECF6",
           "caxis": {
            "gridcolor": "white",
            "linecolor": "white",
            "ticks": ""
           }
          },
          "title": {
           "x": 0.05
          },
          "xaxis": {
           "automargin": true,
           "gridcolor": "white",
           "linecolor": "white",
           "ticks": "",
           "title": {
            "standoff": 15
           },
           "zerolinecolor": "white",
           "zerolinewidth": 2
          },
          "yaxis": {
           "automargin": true,
           "gridcolor": "white",
           "linecolor": "white",
           "ticks": "",
           "title": {
            "standoff": 15
           },
           "zerolinecolor": "white",
           "zerolinewidth": 2
          }
         }
        },
        "title": {
         "text": "Cheapest Electricity Plan per Apartment per Month"
        },
        "width": 1000,
        "xaxis": {
         "title": {
          "text": "Month"
         },
         "type": "category"
        },
        "yaxis": {
         "title": {
          "text": "Apartment ID"
         },
         "type": "category"
        }
       }
      }
     },
     "metadata": {},
     "output_type": "display_data"
    }
   ],
   "source": [
    "heatmap_data = combined_plans.pivot(index='OBJ_NUMERIS', columns='month', values='Cheapest Plan')\n",
    "\n",
    "# Map plan names to numeric values for the heatmap\n",
    "plan_mapping = {'Minimalus': 1, 'Standartinis': 2, 'Lankstus': 3}\n",
    "heatmap_data = heatmap_data.replace(plan_mapping)\n",
    "\n",
    "# Create the heatmap\n",
    "fig = go.Figure(data=go.Heatmap(\n",
    "    z=heatmap_data.values,  \n",
    "    x=heatmap_data.columns.astype(str),  \n",
    "    y=heatmap_data.index, \n",
    "    colorscale='Viridis',\n",
    "    showscale=False,  \n",
    "    xgap=2,\n",
    "    ygap=2\n",
    "    \n",
    "))\n",
    "\n",
    "custom_colors = {1: '#440154', 2: '#21908d', 3: '#fde725'}  \n",
    "legend_items = {'Minimalus': 1, 'Standartinis': 2, 'Lankstus': 3}\n",
    "\n",
    "# Add custom legend using scatter traces\n",
    "for plan_name, value in legend_items.items():\n",
    "    fig.add_trace(go.Scatter(\n",
    "        x=[None], y=[None],\n",
    "        mode='markers',\n",
    "        marker=dict(size=10, color=custom_colors[value]),\n",
    "        name=plan_name  \n",
    "    ))\n",
    "\n",
    "\n",
    "# Update layout\n",
    "fig.update_layout(\n",
    "    title='Cheapest Electricity Plan per Apartment per Month',\n",
    "    xaxis_title='Month',\n",
    "    yaxis_title='Apartment ID',\n",
    "    xaxis=dict(type='category'),  \n",
    "    yaxis=dict(type='category'),\n",
    "    height=800,\n",
    "    width=1000\n",
    ")\n",
    "\n",
    "\n",
    "fig.show()\n"
   ]
  },
  {
   "cell_type": "code",
   "execution_count": 261,
   "metadata": {},
   "outputs": [
    {
     "name": "stdout",
     "output_type": "stream",
     "text": [
      "Apartment (OBJ_NUMERIS) most frequently favoring 'Minimalus' plan: 569298\n",
      "Apartment (OBJ_NUMERIS) most frequently favoring 'Lankstus' plan: 567918\n"
     ]
    }
   ],
   "source": [
    "# Count the number of times each plan is the cheapest for each OBJ_NUMERIS\n",
    "plan_counts = combined_plans.groupby(['OBJ_NUMERIS', 'Cheapest Plan']).size().unstack(fill_value=0)\n",
    "\n",
    "# Identify the apartment most frequently favoring \"Minimalus\" plan\n",
    "minimalus_favored = plan_counts['Minimalus'].idxmax()\n",
    "print(f\"Apartment (OBJ_NUMERIS) most frequently favoring 'Minimalus' plan: {minimalus_favored}\")\n",
    "\n",
    "# Identify the apartment most frequently favoring \"Lankstus\" plan\n",
    "lankstus_favored = plan_counts['Lankstus'].idxmax()\n",
    "print(f\"Apartment (OBJ_NUMERIS) most frequently favoring 'Lankstus' plan: {lankstus_favored}\")"
   ]
  },
  {
   "cell_type": "markdown",
   "metadata": {},
   "source": [
    "Apartment (OBJ_NUMERIS) most frequently favoring 'Minimalus' plan: 569298\n",
    "\n",
    "\n",
    "Apartment (OBJ_NUMERIS) most frequently favoring 'Lankstus' plan: 567918"
   ]
  }
 ],
 "metadata": {
  "kernelspec": {
   "display_name": "profiles",
   "language": "python",
   "name": "python3"
  },
  "language_info": {
   "codemirror_mode": {
    "name": "ipython",
    "version": 3
   },
   "file_extension": ".py",
   "mimetype": "text/x-python",
   "name": "python",
   "nbconvert_exporter": "python",
   "pygments_lexer": "ipython3",
   "version": "3.11.9"
  }
 },
 "nbformat": 4,
 "nbformat_minor": 2
}
